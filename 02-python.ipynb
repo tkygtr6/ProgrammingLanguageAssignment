{
 "cells": [
  {
   "cell_type": "markdown",
   "metadata": {},
   "source": [
    "(double-click to edit)\n",
    "# 学生証番号 03-170465\n",
    "# 名前 Fukuoka Takuya"
   ]
  },
  {
   "cell_type": "markdown",
   "metadata": {},
   "source": [
    "# 3.1. [a,b)に含まれる整数の和 / Sum of integers in [a,b)"
   ]
  },
  {
   "cell_type": "code",
   "execution_count": 1,
   "metadata": {
    "collapsed": true
   },
   "outputs": [],
   "source": [
    "def sum(a, b):\n",
    "    sum = 0\n",
    "    for i in range(a, b):\n",
    "        sum += i\n",
    "    return sum"
   ]
  },
  {
   "cell_type": "code",
   "execution_count": 2,
   "metadata": {
    "collapsed": false
   },
   "outputs": [
    {
     "data": {
      "text/plain": [
       "42"
      ]
     },
     "execution_count": 2,
     "metadata": {},
     "output_type": "execute_result"
    }
   ],
   "source": [
    "sum(3, 10)"
   ]
  },
  {
   "cell_type": "markdown",
   "metadata": {},
   "source": [
    "# 3.2. リストの和 / Sum of numbers in a list"
   ]
  },
  {
   "cell_type": "code",
   "execution_count": 3,
   "metadata": {
    "collapsed": true
   },
   "outputs": [],
   "source": [
    "def sumlist(l):\n",
    "    sum = 0\n",
    "    for i in l:\n",
    "        sum += i\n",
    "    return sum"
   ]
  },
  {
   "cell_type": "code",
   "execution_count": 4,
   "metadata": {
    "collapsed": false
   },
   "outputs": [
    {
     "data": {
      "text/plain": [
       "19"
      ]
     },
     "execution_count": 4,
     "metadata": {},
     "output_type": "execute_result"
    }
   ],
   "source": [
    "sumlist([3, 7, 9])"
   ]
  },
  {
   "cell_type": "markdown",
   "metadata": {},
   "source": [
    "# 3.3. [a,b)に含まれる整数のリスト / List of integers in [a,b)"
   ]
  },
  {
   "cell_type": "code",
   "execution_count": 5,
   "metadata": {
    "collapsed": true
   },
   "outputs": [],
   "source": [
    "def my_range(a, b):\n",
    "    l = []\n",
    "    a_ = a\n",
    "    while True:\n",
    "        if b <= a_:\n",
    "            break\n",
    "        l.append(a_)\n",
    "        a_ += 1\n",
    "    return l"
   ]
  },
  {
   "cell_type": "code",
   "execution_count": 6,
   "metadata": {
    "collapsed": false
   },
   "outputs": [
    {
     "data": {
      "text/plain": [
       "[0, 1, 2, 3, 4, 5, 6, 7, 8, 9]"
      ]
     },
     "execution_count": 6,
     "metadata": {},
     "output_type": "execute_result"
    }
   ],
   "source": [
    "my_range(0, 10)"
   ]
  },
  {
   "cell_type": "markdown",
   "metadata": {},
   "source": [
    "# 3.4. クイックソート / Quicksort"
   ]
  },
  {
   "cell_type": "code",
   "execution_count": 7,
   "metadata": {
    "collapsed": true
   },
   "outputs": [],
   "source": [
    "def qs(l):\n",
    "    if len(l) <= 1:\n",
    "        return l\n",
    "    l_left = []\n",
    "    l_right =[]\n",
    "    for item in l[1:]:\n",
    "        if item < l[0]:\n",
    "            l_left.append(item)\n",
    "        else:\n",
    "            l_right.append(item)\n",
    "    return qs(l_left) + [l[0]] + qs(l_right)"
   ]
  },
  {
   "cell_type": "code",
   "execution_count": 8,
   "metadata": {
    "collapsed": false
   },
   "outputs": [
    {
     "data": {
      "text/plain": [
       "[2, 5, 7, 8]"
      ]
     },
     "execution_count": 8,
     "metadata": {},
     "output_type": "execute_result"
    }
   ],
   "source": [
    "qs([8,5,7,2])"
   ]
  },
  {
   "cell_type": "markdown",
   "metadata": {},
   "source": [
    "# 3.5. 組み込みのライブラリモジュールの利用(random_ints) / Using builtin library modules (random_ints)"
   ]
  },
  {
   "cell_type": "code",
   "execution_count": 9,
   "metadata": {
    "collapsed": false
   },
   "outputs": [],
   "source": [
    "import random\n",
    "def random_ints(a, n):\n",
    "    l = []\n",
    "    for _ in range(n):\n",
    "        l.append(random.randint(0, a))\n",
    "    return l"
   ]
  },
  {
   "cell_type": "code",
   "execution_count": 10,
   "metadata": {
    "collapsed": false
   },
   "outputs": [
    {
     "data": {
      "text/plain": [
       "[435, 962, 75, 138, 29]"
      ]
     },
     "execution_count": 10,
     "metadata": {},
     "output_type": "execute_result"
    }
   ],
   "source": [
    "random_ints(1000, 5)"
   ]
  },
  {
   "cell_type": "markdown",
   "metadata": {},
   "source": [
    "# 3.6. 長いリストのソート / Sort a large list"
   ]
  },
  {
   "cell_type": "code",
   "execution_count": 11,
   "metadata": {
    "collapsed": true
   },
   "outputs": [],
   "source": [
    "def check_sorted(l):\n",
    "    for i, v in enumerate(l):\n",
    "        if i == 0:\n",
    "            before_value = v\n",
    "            continue\n",
    "        if before_value > v:\n",
    "            return 0\n",
    "        before_value = v\n",
    "    return 1"
   ]
  },
  {
   "cell_type": "code",
   "execution_count": 12,
   "metadata": {
    "collapsed": false
   },
   "outputs": [
    {
     "data": {
      "text/plain": [
       "0"
      ]
     },
     "execution_count": 12,
     "metadata": {},
     "output_type": "execute_result"
    }
   ],
   "source": [
    "check_sorted([3, 1, 2])"
   ]
  },
  {
   "cell_type": "code",
   "execution_count": 13,
   "metadata": {
    "collapsed": false
   },
   "outputs": [
    {
     "data": {
      "text/plain": [
       "1"
      ]
     },
     "execution_count": 13,
     "metadata": {},
     "output_type": "execute_result"
    }
   ],
   "source": [
    "check_sorted([1,2,4])"
   ]
  },
  {
   "cell_type": "code",
   "execution_count": 14,
   "metadata": {
    "collapsed": true
   },
   "outputs": [],
   "source": [
    "def test_qs(n):\n",
    "    l = random_ints(100000, n)\n",
    "    if check_sorted(qs(l)):\n",
    "        return 1\n",
    "    else:\n",
    "        return 0"
   ]
  },
  {
   "cell_type": "code",
   "execution_count": 15,
   "metadata": {
    "collapsed": false
   },
   "outputs": [
    {
     "data": {
      "text/plain": [
       "1"
      ]
     },
     "execution_count": 15,
     "metadata": {},
     "output_type": "execute_result"
    }
   ],
   "source": [
    "test_qs(10000)"
   ]
  },
  {
   "cell_type": "markdown",
   "metadata": {},
   "source": [
    "# 3.7. 実行時間測定 / Measure execution time"
   ]
  },
  {
   "cell_type": "code",
   "execution_count": 16,
   "metadata": {
    "collapsed": true
   },
   "outputs": [],
   "source": [
    "import time\n",
    "def measure_qs(n):\n",
    "    start_time = time.time()\n",
    "    test_qs(n)\n",
    "    end_time = time.time()\n",
    "    print(\"OK {} elems in {} sec\".format(n, end_time - start_time))"
   ]
  },
  {
   "cell_type": "code",
   "execution_count": 17,
   "metadata": {
    "collapsed": false
   },
   "outputs": [
    {
     "name": "stdout",
     "output_type": "stream",
     "text": [
      "OK 100000 elems in 0.417087078094 sec\n"
     ]
    }
   ],
   "source": [
    "measure_qs(100000)"
   ]
  },
  {
   "cell_type": "markdown",
   "metadata": {},
   "source": [
    "# 3.8. クラスを使ってみる / Use a class"
   ]
  },
  {
   "cell_type": "code",
   "execution_count": 18,
   "metadata": {
    "collapsed": true
   },
   "outputs": [],
   "source": [
    "class point:\n",
    "    def __init__(self, x, y):\n",
    "        self.x = x\n",
    "        self.y = y\n",
    "    \n",
    "    def norm2(self):\n",
    "        return self.x ** 2 + self.y ** 2"
   ]
  },
  {
   "cell_type": "code",
   "execution_count": 19,
   "metadata": {
    "collapsed": false
   },
   "outputs": [
    {
     "data": {
      "text/plain": [
       "<__main__.point instance at 0x7f3bb4117488>"
      ]
     },
     "execution_count": 19,
     "metadata": {},
     "output_type": "execute_result"
    }
   ],
   "source": [
    "p = point(3, 4)\n",
    "p"
   ]
  },
  {
   "cell_type": "code",
   "execution_count": 20,
   "metadata": {
    "collapsed": false
   },
   "outputs": [
    {
     "data": {
      "text/plain": [
       "3"
      ]
     },
     "execution_count": 20,
     "metadata": {},
     "output_type": "execute_result"
    }
   ],
   "source": [
    "p.x"
   ]
  },
  {
   "cell_type": "code",
   "execution_count": 21,
   "metadata": {
    "collapsed": false
   },
   "outputs": [
    {
     "data": {
      "text/plain": [
       "4"
      ]
     },
     "execution_count": 21,
     "metadata": {},
     "output_type": "execute_result"
    }
   ],
   "source": [
    "p.y"
   ]
  },
  {
   "cell_type": "code",
   "execution_count": 22,
   "metadata": {
    "collapsed": false
   },
   "outputs": [
    {
     "data": {
      "text/plain": [
       "25"
      ]
     },
     "execution_count": 22,
     "metadata": {},
     "output_type": "execute_result"
    }
   ],
   "source": [
    "p.norm2()"
   ]
  },
  {
   "cell_type": "markdown",
   "metadata": {},
   "source": [
    "# 3.10.1 Circleクラス / Circle class"
   ]
  },
  {
   "cell_type": "code",
   "execution_count": 23,
   "metadata": {
    "collapsed": false
   },
   "outputs": [],
   "source": [
    "class Circle:\n",
    "    def __init__(self, cx, cy, r):\n",
    "        self.cx = cx;\n",
    "        self.cy = cy;\n",
    "        self.r = r;\n",
    "    \n",
    "    def to_svg(self):\n",
    "        return '<circle cx=\"{}\" cy=\"{}\" r=\"{}\" stroke=\"{}\" fill=\"{}\" />'.format(self.cx, self.cy, self.r, \"black\", \"white\")\n",
    "    \n",
    "    def bb(self):\n",
    "        return (self.cx - self.r, self.cy - self.r, self.r * 2, self.r * 2)"
   ]
  },
  {
   "cell_type": "code",
   "execution_count": 24,
   "metadata": {
    "collapsed": false
   },
   "outputs": [
    {
     "data": {
      "text/plain": [
       "'<circle cx=\"100\" cy=\"200\" r=\"70\" stroke=\"black\" fill=\"white\" />'"
      ]
     },
     "execution_count": 24,
     "metadata": {},
     "output_type": "execute_result"
    }
   ],
   "source": [
    "c = Circle(100, 200, 70)\n",
    "c.to_svg()"
   ]
  },
  {
   "cell_type": "code",
   "execution_count": 25,
   "metadata": {
    "collapsed": false
   },
   "outputs": [
    {
     "data": {
      "text/plain": [
       "(30, 130, 140, 140)"
      ]
     },
     "execution_count": 25,
     "metadata": {},
     "output_type": "execute_result"
    }
   ],
   "source": [
    "c.bb()"
   ]
  },
  {
   "cell_type": "markdown",
   "metadata": {},
   "source": [
    "# 3.10.2 Rectクラス / Rect class"
   ]
  },
  {
   "cell_type": "code",
   "execution_count": 49,
   "metadata": {
    "collapsed": true
   },
   "outputs": [],
   "source": [
    "class Rect:\n",
    "    def __init__(self, x, y, width, height):\n",
    "        self.x = x\n",
    "        self.y = y\n",
    "        self.width = width;\n",
    "        self.height = height;\n",
    "    \n",
    "    def to_svg(self):\n",
    "        return '<rect x=\"{}\" y=\"{}\" width=\"{}\" height=\"{}\" stroke=\"{}\" fill=\"{}\" />'.format(self.x, self.y, self.width, self.height, \"black\", \"white\")\n",
    "    \n",
    "    def bb(self):\n",
    "        return (self.x, self.y, self.width, self.height)"
   ]
  },
  {
   "cell_type": "code",
   "execution_count": 50,
   "metadata": {
    "collapsed": false
   },
   "outputs": [
    {
     "data": {
      "text/plain": [
       "'<rect x=\"300\" y=\"400\" width=\"80\" height=\"90\" stroke=\"black\" fill=\"white\" />'"
      ]
     },
     "execution_count": 50,
     "metadata": {},
     "output_type": "execute_result"
    }
   ],
   "source": [
    "r = Rect(300, 400, 80, 90)\n",
    "r.to_svg()"
   ]
  },
  {
   "cell_type": "code",
   "execution_count": 51,
   "metadata": {
    "collapsed": false
   },
   "outputs": [
    {
     "data": {
      "text/plain": [
       "(300, 400, 80, 90)"
      ]
     },
     "execution_count": 51,
     "metadata": {},
     "output_type": "execute_result"
    }
   ],
   "source": [
    "r.bb()"
   ]
  },
  {
   "cell_type": "markdown",
   "metadata": {},
   "source": [
    "# 3.10.3. SVGCanvasクラス / SVGCanvas class"
   ]
  },
  {
   "cell_type": "code",
   "execution_count": 29,
   "metadata": {
    "collapsed": false
   },
   "outputs": [],
   "source": [
    "class SVGCanvas:\n",
    "    def __init__(self):\n",
    "        self.obj_list = []\n",
    "        self.x_min = None\n",
    "        self.y_min = None\n",
    "        self.x_max = None\n",
    "        self.y_max = None\n",
    "    \n",
    "    def add(self, obj):\n",
    "        self.obj_list.append(obj)\n",
    "        self._update(obj)\n",
    "    \n",
    "    def to_svg(self):\n",
    "        svg_head = '''<?xml version=\"1.0\" encoding=\"UTF-8\" standalone=\"yes\"?>\n",
    "<svg \n",
    "    xmlns=\"http://www.w3.org/2000/svg\"\n",
    "    width=\"{}\" height=\"{}\"\n",
    "    viewBox=\"{} {} {} {}\" \n",
    ">\n",
    "'''.format(self._get_width(), self._get_height(), self.x_min, self.y_min, self._get_width(), self._get_height())\n",
    "        \n",
    "        for obj in self.obj_list:\n",
    "            svg_head  += obj.to_svg()\n",
    "            svg_head += \"\\n\"\n",
    "        \n",
    "        svg_head += \"</svg>\"\n",
    "        \n",
    "        return svg_head\n",
    "    \n",
    "    def _update(self, obj):\n",
    "        if self.x_min == None:\n",
    "            self.x_min = obj.bb()[0]\n",
    "        else:\n",
    "            self.x_min = min(self.x_min, obj.bb()[0])\n",
    "\n",
    "        if self.y_min == None:\n",
    "            self.y_min = obj.bb()[1]\n",
    "        else:\n",
    "            self.y_min = min(self.y_min, obj.bb()[1])\n",
    "                \n",
    "        if self.x_max == None:\n",
    "            self.x_max = obj.bb()[0] + obj.bb()[2]\n",
    "        else:\n",
    "            self.x_max = max(self.x_max, obj.bb()[0] + obj.bb()[2])\n",
    "        \n",
    "        if self.y_max == None:\n",
    "            self.y_max = obj.bb()[1] + obj.bb()[3]\n",
    "        else:\n",
    "            self.y_max = max(self.y_max, obj.bb()[1] + obj.bb()[3])\n",
    "    \n",
    "    def _get_width(self):\n",
    "        return self.x_max - self.x_min\n",
    "    \n",
    "    def _get_height(self):\n",
    "        return self.y_max - self.y_min"
   ]
  },
  {
   "cell_type": "code",
   "execution_count": 30,
   "metadata": {
    "collapsed": true
   },
   "outputs": [],
   "source": [
    "from IPython.display import SVG"
   ]
  },
  {
   "cell_type": "code",
   "execution_count": 31,
   "metadata": {
    "collapsed": false
   },
   "outputs": [
    {
     "data": {
      "image/svg+xml": [
       "<svg height=\"360\" viewBox=\"30 130 350 360\" width=\"350\" xmlns=\"http://www.w3.org/2000/svg\">\n",
       "<circle cx=\"100\" cy=\"200\" fill=\"white\" r=\"70\" stroke=\"black\"/>\n",
       "<rect fill=\"white\" height=\"90\" stroke=\"black\" width=\"80\" x=\"300\" y=\"400\"/>\n",
       "</svg>"
      ],
      "text/plain": [
       "<IPython.core.display.SVG object>"
      ]
     },
     "execution_count": 31,
     "metadata": {},
     "output_type": "execute_result"
    }
   ],
   "source": [
    "sc = SVGCanvas()\n",
    "sc.add(c)\n",
    "sc.add(r)\n",
    "SVG(sc.to_svg())"
   ]
  },
  {
   "cell_type": "markdown",
   "metadata": {},
   "source": [
    "# 3.10.4. 共通の親クラス ClosedShape / A common parent class ClosedShape"
   ]
  },
  {
   "cell_type": "code",
   "execution_count": 32,
   "metadata": {
    "collapsed": true
   },
   "outputs": [],
   "source": [
    "class ClosedShape(object):\n",
    "    def __init__(self):\n",
    "        self.fill = \"white\"\n",
    "        self.stroke = \"black\"\n",
    "\n",
    "    def set_fill(self, color):\n",
    "        self.fill = color\n",
    "    \n",
    "    def set_stroke(self, color):\n",
    "        self.stroke = color"
   ]
  },
  {
   "cell_type": "code",
   "execution_count": 33,
   "metadata": {
    "collapsed": true
   },
   "outputs": [],
   "source": [
    "class Circle(ClosedShape):\n",
    "    def __init__(self, cx, cy, r):\n",
    "        super(Circle, self).__init__()\n",
    "        self.cx = cx;\n",
    "        self.cy = cy;\n",
    "        self.r = r;\n",
    "    \n",
    "    def to_svg(self):\n",
    "        return '<circle cx=\"{}\" cy=\"{}\" r=\"{}\" stroke=\"{}\" fill=\"{}\" />'.format(self.cx, self.cy, self.r, self.stroke, self.fill)\n",
    "    \n",
    "    def bb(self):\n",
    "        return (self.cx - self.r, self.cy - self.r, self.r * 2, self.r * 2)"
   ]
  },
  {
   "cell_type": "code",
   "execution_count": 34,
   "metadata": {
    "collapsed": true
   },
   "outputs": [],
   "source": [
    "class Rect(ClosedShape):\n",
    "    def __init__(self, x, y, width, height):\n",
    "        super(Rect, self).__init__()\n",
    "        self.x = x\n",
    "        self.y = y\n",
    "        self.width = width;\n",
    "        self.height = height;\n",
    "    \n",
    "    def to_svg(self):\n",
    "        return '<rect x=\"{}\" y=\"{}\" width=\"{}\" height=\"{}\" stroke=\"{}\" fill=\"{}\" />'.format(self.x, self.y, self.width, self.height, self.stroke, self.fill)\n",
    "    \n",
    "    def bb(self):\n",
    "        return (self.x, self.y, self.width, self.height)"
   ]
  },
  {
   "cell_type": "code",
   "execution_count": 35,
   "metadata": {
    "collapsed": false
   },
   "outputs": [
    {
     "data": {
      "image/svg+xml": [
       "<svg height=\"360\" viewBox=\"30 130 350 360\" width=\"350\" xmlns=\"http://www.w3.org/2000/svg\">\n",
       "<circle cx=\"100\" cy=\"200\" fill=\"orange\" r=\"70\" stroke=\"black\"/>\n",
       "<rect fill=\"white\" height=\"90\" stroke=\"yellow\" width=\"80\" x=\"300\" y=\"400\"/>\n",
       "</svg>"
      ],
      "text/plain": [
       "<IPython.core.display.SVG object>"
      ]
     },
     "execution_count": 35,
     "metadata": {},
     "output_type": "execute_result"
    }
   ],
   "source": [
    "c = Circle(100, 200, 70)\n",
    "c.set_fill(\"orange\")\n",
    "r = Rect(300, 400, 80, 90)\n",
    "r.set_stroke(\"yellow\")\n",
    "sc = SVGCanvas()\n",
    "sc.add(c)\n",
    "sc.add(r)\n",
    "SVG(sc.to_svg())"
   ]
  },
  {
   "cell_type": "markdown",
   "metadata": {},
   "source": [
    "# 3.10.5. その他の図形クラス(任意) / Other shape classes (optional)"
   ]
  },
  {
   "cell_type": "code",
   "execution_count": null,
   "metadata": {
    "collapsed": true
   },
   "outputs": [],
   "source": []
  },
  {
   "cell_type": "markdown",
   "metadata": {},
   "source": [
    "# 3.10.6. 多数の図形の生成 / Generate many shapes"
   ]
  },
  {
   "cell_type": "code",
   "execution_count": 36,
   "metadata": {
    "collapsed": false
   },
   "outputs": [
    {
     "data": {
      "image/svg+xml": [
       "<svg height=\"470\" viewBox=\"-130 -176 471 470\" width=\"471\" xmlns=\"http://www.w3.org/2000/svg\">\n",
       "<circle cx=\"120\" cy=\"65\" fill=\"none\" r=\"70\" stroke=\"black\"/>\n",
       "<rect fill=\"none\" height=\"50\" stroke=\"black\" width=\"152\" x=\"189\" y=\"41\"/>\n",
       "<circle cx=\"131\" cy=\"121\" fill=\"none\" r=\"90\" stroke=\"black\"/>\n",
       "<rect fill=\"none\" height=\"21\" stroke=\"black\" width=\"66\" x=\"86\" y=\"138\"/>\n",
       "<circle cx=\"162\" cy=\"43\" fill=\"none\" r=\"73\" stroke=\"black\"/>\n",
       "<rect fill=\"none\" height=\"187\" stroke=\"black\" width=\"71\" x=\"83\" y=\"1\"/>\n",
       "<circle cx=\"50\" cy=\"93\" fill=\"none\" r=\"134\" stroke=\"black\"/>\n",
       "<rect fill=\"none\" height=\"61\" stroke=\"black\" width=\"59\" x=\"54\" y=\"139\"/>\n",
       "<circle cx=\"158\" cy=\"17\" fill=\"none\" r=\"72\" stroke=\"black\"/>\n",
       "<rect fill=\"none\" height=\"85\" stroke=\"black\" width=\"53\" x=\"69\" y=\"12\"/>\n",
       "<circle cx=\"69\" cy=\"51\" fill=\"none\" r=\"199\" stroke=\"black\"/>\n",
       "<rect fill=\"none\" height=\"168\" stroke=\"black\" width=\"26\" x=\"44\" y=\"20\"/>\n",
       "<circle cx=\"54\" cy=\"120\" fill=\"none\" r=\"30\" stroke=\"black\"/>\n",
       "<rect fill=\"none\" height=\"51\" stroke=\"black\" width=\"46\" x=\"88\" y=\"150\"/>\n",
       "<circle cx=\"26\" cy=\"22\" fill=\"none\" r=\"145\" stroke=\"black\"/>\n",
       "<rect fill=\"none\" height=\"92\" stroke=\"black\" width=\"125\" x=\"81\" y=\"24\"/>\n",
       "<circle cx=\"198\" cy=\"180\" fill=\"none\" r=\"114\" stroke=\"black\"/>\n",
       "<rect fill=\"none\" height=\"107\" stroke=\"black\" width=\"92\" x=\"129\" y=\"122\"/>\n",
       "<circle cx=\"144\" cy=\"3\" fill=\"none\" r=\"179\" stroke=\"black\"/>\n",
       "<rect fill=\"none\" height=\"94\" stroke=\"black\" width=\"125\" x=\"72\" y=\"28\"/>\n",
       "</svg>"
      ],
      "text/plain": [
       "<IPython.core.display.SVG object>"
      ]
     },
     "execution_count": 36,
     "metadata": {},
     "output_type": "execute_result"
    }
   ],
   "source": [
    "from random import randrange\n",
    "sc = SVGCanvas()\n",
    "for _ in range(10):\n",
    "    c = Circle(randrange(200), randrange(200), randrange(200))\n",
    "    c.set_fill(\"none\")\n",
    "    r = Rect(randrange(200), randrange(200), randrange(200), randrange(200))\n",
    "    r.set_fill(\"none\")\n",
    "    sc.add(c)\n",
    "    sc.add(r)\n",
    "SVG(sc.to_svg())"
   ]
  },
  {
   "cell_type": "markdown",
   "metadata": {},
   "source": [
    "# 3.11. 2分探索木 / Binary search tree"
   ]
  },
  {
   "cell_type": "code",
   "execution_count": 94,
   "metadata": {
    "collapsed": true
   },
   "outputs": [],
   "source": [
    "class bs_tree_node(object):\n",
    "    def __init__(self, value):\n",
    "        self.value = value\n",
    "        self.parent = None\n",
    "        self.pos = \"root\"\n",
    "        self.right = None\n",
    "        self.left = None\n",
    "    \n",
    "    def set_right(self, right_node):\n",
    "        right_node.parent = self\n",
    "        right_node.pos = \"right\"\n",
    "        self.right = right_node\n",
    "    \n",
    "    def set_left(self, left_node):\n",
    "        left_node.parent = self\n",
    "        left_node.pos = \"left\"\n",
    "        self.left = left_node"
   ]
  },
  {
   "cell_type": "code",
   "execution_count": 104,
   "metadata": {
    "collapsed": true
   },
   "outputs": [],
   "source": [
    "class bs_tree(object):\n",
    "    def __init__(self):\n",
    "        self.root = None\n",
    "    \n",
    "    def insert(self, value):\n",
    "        new_node = bs_tree_node(value)\n",
    "        if self.root is None:\n",
    "            self.root = new_node\n",
    "            return\n",
    "        \n",
    "        node_now = self.root\n",
    "        while(True):\n",
    "            if value < node_now.value:\n",
    "                if node_now.left is None:\n",
    "                    node_now.set_left(new_node)\n",
    "                    break\n",
    "                else:\n",
    "                    node_now = node_now.left\n",
    "                    continue\n",
    "            else:\n",
    "                if node_now.right is None:\n",
    "                    node_now.set_right(new_node)\n",
    "                    break\n",
    "                else:\n",
    "                    node_now = node_now.right\n",
    "                    continue"
   ]
  },
  {
   "cell_type": "code",
   "execution_count": 105,
   "metadata": {
    "collapsed": false
   },
   "outputs": [
    {
     "name": "stdout",
     "output_type": "stream",
     "text": [
      "<__main__.bs_tree_node object at 0x7f3bb4099b10>\n"
     ]
    }
   ],
   "source": [
    "t = bs_tree()\n",
    "t.insert(10)\n",
    "t.insert(8)\n",
    "t.insert(15)"
   ]
  },
  {
   "cell_type": "code",
   "execution_count": 106,
   "metadata": {
    "collapsed": false
   },
   "outputs": [
    {
     "name": "stdout",
     "output_type": "stream",
     "text": [
      "root: 10, left: 8, right: 15\n"
     ]
    }
   ],
   "source": [
    "print(\"root: {}, left: {}, right: {}\".format(t.root.value, t.root.left.value, t.root.right.value))"
   ]
  },
  {
   "cell_type": "code",
   "execution_count": 107,
   "metadata": {
    "collapsed": false
   },
   "outputs": [
    {
     "data": {
      "text/plain": [
       "<__main__.bs_tree_node at 0x7f3bb4099b10>"
      ]
     },
     "execution_count": 107,
     "metadata": {},
     "output_type": "execute_result"
    }
   ],
   "source": [
    "t.root.left.parent"
   ]
  },
  {
   "cell_type": "markdown",
   "metadata": {},
   "source": [
    "# 3.12. 2分探索木の要素の昇順リスト / Ascending list of elements in a binary search tree"
   ]
  },
  {
   "cell_type": "code",
   "execution_count": 108,
   "metadata": {
    "collapsed": false
   },
   "outputs": [],
   "source": [
    "class bs_tree(object):\n",
    "    def __init__(self):\n",
    "        self.root = None\n",
    "    \n",
    "    def insert(self, value):\n",
    "        new_node = bs_tree_node(value)\n",
    "        if self.root is None:\n",
    "            self.root = new_node\n",
    "            return\n",
    "        \n",
    "        node_now = self.root\n",
    "        while True:\n",
    "            if value < node_now.value:\n",
    "                if node_now.left is None:\n",
    "                    node_now.left = new_node\n",
    "                    break\n",
    "                else:\n",
    "                    node_now = node_now.left\n",
    "                    continue\n",
    "            else:\n",
    "                if node_now.right is None:\n",
    "                    node_now.right = new_node\n",
    "                    break\n",
    "                else:\n",
    "                    node_now = node_now.right\n",
    "                    continue\n",
    "        \n",
    "    def all_vals_list(self):\n",
    "        if self.root is None:\n",
    "            return []\n",
    "        l = []\n",
    "        self._append_value_recur(l, self.root)\n",
    "        print(l)\n",
    "    \n",
    "    def _append_value_recur(self, l, node_now):\n",
    "        if node_now.left is not None:\n",
    "            self._append_value_recur(l, node_now.left)\n",
    "        l.append(node_now.value)\n",
    "        if node_now.right is not None:\n",
    "            self._append_value_recur(l, node_now.right)"
   ]
  },
  {
   "cell_type": "code",
   "execution_count": 109,
   "metadata": {
    "collapsed": false
   },
   "outputs": [
    {
     "name": "stdout",
     "output_type": "stream",
     "text": [
      "[2, 8, 10, 15, 16, 17]\n"
     ]
    }
   ],
   "source": [
    "t = bs_tree()\n",
    "t.insert(10)\n",
    "t.insert(8)\n",
    "t.insert(15)\n",
    "t.insert(17)\n",
    "t.insert(2)\n",
    "t.insert(16)\n",
    "t.all_vals_list()"
   ]
  },
  {
   "cell_type": "markdown",
   "metadata": {},
   "source": [
    "# 3.13. 2分探索木の要素の昇順イテレータ / An iterator generating elements of a binary tree in the ascending order"
   ]
  },
  {
   "cell_type": "code",
   "execution_count": 116,
   "metadata": {
    "collapsed": false
   },
   "outputs": [],
   "source": [
    "class bs_tree(object):\n",
    "    def __init__(self):\n",
    "        self.root = None\n",
    "    \n",
    "    def insert(self, value):\n",
    "        new_node = bs_tree_node(value)\n",
    "        if self.root is None:\n",
    "            self.root = new_node\n",
    "            return\n",
    "        \n",
    "        node_now = self.root\n",
    "        while(True):\n",
    "            if value < node_now.value:\n",
    "                if node_now.left is None:\n",
    "                    node_now.set_left(new_node)\n",
    "                    break\n",
    "                else:\n",
    "                    node_now = node_now.left\n",
    "                    continue\n",
    "            else:\n",
    "                if node_now.right is None:\n",
    "                    node_now.set_right(new_node)\n",
    "                    break\n",
    "                else:\n",
    "                    node_now = node_now.right\n",
    "                    continue\n",
    "        \n",
    "    def __iter__(self):\n",
    "        if self.root is None:\n",
    "            raise StopIteration\n",
    "        node_now = self.root\n",
    "        move_type = \"from_top\"\n",
    "        \n",
    "        while True:\n",
    "            #from IPython.core.debugger import Pdb; Pdb().set_trace()\n",
    "            if move_type == \"from_top\":\n",
    "                if node_now.left is not None:\n",
    "                    node_now = node_now.left\n",
    "                    move_type = \"from_top\"\n",
    "                    continue\n",
    "                \n",
    "                #print(\"yield {}\".format(node_now.value))\n",
    "                yield node_now.value\n",
    "                \n",
    "                if node_now.right is not None:\n",
    "                    node_now = node_now.right\n",
    "                    move_type = \"from_top\"\n",
    "                    continue\n",
    "                \n",
    "                if node_now.parent is None:\n",
    "                    break\n",
    "                else:\n",
    "                    if node_now.pos == \"left\":\n",
    "                        move_type = \"from_left\"\n",
    "                    elif node_now.pos == \"right\":\n",
    "                        move_type == \"from_right\"\n",
    "                    node_now = node_now.parent\n",
    "                    continue\n",
    "            \n",
    "            elif move_type == \"from_left\":\n",
    "                #print(\"yield {}\".format(node_now.value))\n",
    "                yield node_now.value\n",
    "                if node_now.right is not None:\n",
    "                    node_now = node_now.right\n",
    "                    move_type = \"from_top\"\n",
    "                    continue\n",
    "                \n",
    "                if node_now.parent is None:\n",
    "                    break\n",
    "                if node_now.pos == \"left\":\n",
    "                    move_type = \"from_left\"\n",
    "                elif node_now.pos == \"right\":\n",
    "                    move_type = \"from_right\"\n",
    "                node_now = node_now.parent\n",
    "                continue\n",
    "            \n",
    "            else:\n",
    "                if node_now.parent is None:\n",
    "                    break\n",
    "                if node_now.pos == \"left\":\n",
    "                    move_type = \"from_left\"\n",
    "                elif node_now.pos == \"right\":\n",
    "                    move_type = \"from_right\"\n",
    "                node_now = node_now.parent\n",
    "                continue"
   ]
  },
  {
   "cell_type": "code",
   "execution_count": 117,
   "metadata": {
    "collapsed": false
   },
   "outputs": [
    {
     "name": "stdout",
     "output_type": "stream",
     "text": [
      "<__main__.bs_tree_node object at 0x7f3b9ee85ad0>\n",
      "<__main__.bs_tree_node object at 0x7f3b9ee85250>\n",
      "<__main__.bs_tree_node object at 0x7f3b9ee85d10>\n",
      "2\n",
      "8\n",
      "10\n",
      "15\n",
      "16\n",
      "17\n"
     ]
    }
   ],
   "source": [
    "t = bs_tree()\n",
    "t.insert(10)\n",
    "t.insert(8)\n",
    "t.insert(15)\n",
    "t.insert(17)\n",
    "t.insert(2)\n",
    "t.insert(16)\n",
    "\n",
    "for x in t:\n",
    "    print(x)"
   ]
  },
  {
   "cell_type": "markdown",
   "metadata": {},
   "source": [
    "# 3.14. 2分探索木の可視化(任意) / Visualize a binary search tree (optional)"
   ]
  },
  {
   "cell_type": "code",
   "execution_count": null,
   "metadata": {
    "collapsed": true
   },
   "outputs": [],
   "source": []
  },
  {
   "cell_type": "code",
   "execution_count": null,
   "metadata": {
    "collapsed": true
   },
   "outputs": [],
   "source": []
  }
 ],
 "metadata": {
  "kernelspec": {
   "display_name": "Python 2",
   "language": "python",
   "name": "python2"
  },
  "language_info": {
   "codemirror_mode": {
    "name": "ipython",
    "version": 2
   },
   "file_extension": ".py",
   "mimetype": "text/x-python",
   "name": "python",
   "nbconvert_exporter": "python",
   "pygments_lexer": "ipython2",
   "version": "2.7.6"
  }
 },
 "nbformat": 4,
 "nbformat_minor": 0
}

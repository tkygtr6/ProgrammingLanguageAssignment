{
 "cells": [
  {
   "cell_type": "markdown",
   "metadata": {},
   "source": [
    "(double-click to edit)\n",
    "# 学生証番号 03170465\n",
    "# 名前 福岡拓也"
   ]
  },
  {
   "cell_type": "markdown",
   "metadata": {},
   "source": [
    "# 4.1. [a,b)に含まれる整数の和 / Sum of integers in [a,b)"
   ]
  },
  {
   "cell_type": "code",
   "execution_count": 1,
   "metadata": {
    "collapsed": false
   },
   "outputs": [
    {
     "data": {
      "text/html": [
       "<pre style=\"color:slategray;max-height:100px;overflow:hidden\" \n",
       "onclick=\"\n",
       "if (this.style.maxHeight === 'none') \n",
       "    this.style.maxHeight = '100px';\n",
       "else\n",
       "    this.style.maxHeight = 'none'; \n",
       "\">val sum : int -&gt; int -&gt; int = &lt;fun&gt;\n",
       "</pre>"
      ]
     },
     "execution_count": 1,
     "metadata": {},
     "output_type": "execute_result"
    }
   ],
   "source": [
    "let rec sum a b =\n",
    "if a >= b then 0\n",
    "else a + (sum (a + 1) b)"
   ]
  },
  {
   "cell_type": "code",
   "execution_count": 2,
   "metadata": {
    "collapsed": false
   },
   "outputs": [
    {
     "data": {
      "text/html": [
       "<pre style=\"color:slategray;max-height:100px;overflow:hidden\" \n",
       "onclick=\"\n",
       "if (this.style.maxHeight === 'none') \n",
       "    this.style.maxHeight = '100px';\n",
       "else\n",
       "    this.style.maxHeight = 'none'; \n",
       "\">- : int = 45\n",
       "</pre>"
      ]
     },
     "execution_count": 2,
     "metadata": {},
     "output_type": "execute_result"
    },
    {
     "data": {
      "text/html": [
       "<pre style=\"color:slategray;max-height:100px;overflow:hidden\" \n",
       "onclick=\"\n",
       "if (this.style.maxHeight === 'none') \n",
       "    this.style.maxHeight = '100px';\n",
       "else\n",
       "    this.style.maxHeight = 'none'; \n",
       "\">- : int = 35\n",
       "</pre>"
      ]
     },
     "execution_count": 2,
     "metadata": {},
     "output_type": "execute_result"
    }
   ],
   "source": [
    "sum 0 10;;\n",
    "sum 5 10;;"
   ]
  },
  {
   "cell_type": "markdown",
   "metadata": {},
   "source": [
    "# 4.2. [a,b)に含まれる整数のリスト / List of integers in [a,b)"
   ]
  },
  {
   "cell_type": "code",
   "execution_count": 3,
   "metadata": {
    "collapsed": false
   },
   "outputs": [
    {
     "data": {
      "text/html": [
       "<pre style=\"color:slategray;max-height:100px;overflow:hidden\" \n",
       "onclick=\"\n",
       "if (this.style.maxHeight === 'none') \n",
       "    this.style.maxHeight = '100px';\n",
       "else\n",
       "    this.style.maxHeight = 'none'; \n",
       "\">val range : int -&gt; int -&gt; int list = &lt;fun&gt;\n",
       "</pre>"
      ]
     },
     "execution_count": 3,
     "metadata": {},
     "output_type": "execute_result"
    }
   ],
   "source": [
    "let rec range a b =\n",
    "if a >= b then []\n",
    "else a :: (range (a + 1) b)"
   ]
  },
  {
   "cell_type": "code",
   "execution_count": 4,
   "metadata": {
    "collapsed": false
   },
   "outputs": [
    {
     "data": {
      "text/html": [
       "<pre style=\"color:slategray;max-height:100px;overflow:hidden\" \n",
       "onclick=\"\n",
       "if (this.style.maxHeight === 'none') \n",
       "    this.style.maxHeight = '100px';\n",
       "else\n",
       "    this.style.maxHeight = 'none'; \n",
       "\">- : int list = [0; 1; 2; 3; 4; 5; 6; 7; 8; 9]\n",
       "</pre>"
      ]
     },
     "execution_count": 4,
     "metadata": {},
     "output_type": "execute_result"
    },
    {
     "data": {
      "text/html": [
       "<pre style=\"color:slategray;max-height:100px;overflow:hidden\" \n",
       "onclick=\"\n",
       "if (this.style.maxHeight === 'none') \n",
       "    this.style.maxHeight = '100px';\n",
       "else\n",
       "    this.style.maxHeight = 'none'; \n",
       "\">- : int list = [5; 6; 7; 8; 9]\n",
       "</pre>"
      ]
     },
     "execution_count": 4,
     "metadata": {},
     "output_type": "execute_result"
    }
   ],
   "source": [
    "range 0 10;;\n",
    "range 5 10;;"
   ]
  },
  {
   "cell_type": "markdown",
   "metadata": {},
   "source": [
    "# 4.3. リストの全要素に1ずつ足す / Add one to each element of a list"
   ]
  },
  {
   "cell_type": "code",
   "execution_count": 5,
   "metadata": {
    "collapsed": false
   },
   "outputs": [
    {
     "data": {
      "text/html": [
       "<pre style=\"color:slategray;max-height:100px;overflow:hidden\" \n",
       "onclick=\"\n",
       "if (this.style.maxHeight === 'none') \n",
       "    this.style.maxHeight = '100px';\n",
       "else\n",
       "    this.style.maxHeight = 'none'; \n",
       "\">val inclist : int list -&gt; int list = &lt;fun&gt;\n",
       "</pre>"
      ]
     },
     "execution_count": 5,
     "metadata": {},
     "output_type": "execute_result"
    }
   ],
   "source": [
    "let rec inclist l =\n",
    "    match l with\n",
    "        [] -> []\n",
    "        | a :: r -> (a + 1) :: (inclist r)"
   ]
  },
  {
   "cell_type": "code",
   "execution_count": 6,
   "metadata": {
    "collapsed": false
   },
   "outputs": [
    {
     "data": {
      "text/html": [
       "<pre style=\"color:slategray;max-height:100px;overflow:hidden\" \n",
       "onclick=\"\n",
       "if (this.style.maxHeight === 'none') \n",
       "    this.style.maxHeight = '100px';\n",
       "else\n",
       "    this.style.maxHeight = 'none'; \n",
       "\">- : int list = [1; 2; 3; 4; 5; 6; 7; 8; 9; 10]\n",
       "</pre>"
      ]
     },
     "execution_count": 6,
     "metadata": {},
     "output_type": "execute_result"
    }
   ],
   "source": [
    "inclist (range 0 10);;"
   ]
  },
  {
   "cell_type": "markdown",
   "metadata": {},
   "source": [
    "# 4.4. リストの全要素にfを施す / Apply f to each element of a list"
   ]
  },
  {
   "cell_type": "code",
   "execution_count": 7,
   "metadata": {
    "collapsed": false
   },
   "outputs": [
    {
     "data": {
      "text/html": [
       "<pre style=\"color:slategray;max-height:100px;overflow:hidden\" \n",
       "onclick=\"\n",
       "if (this.style.maxHeight === 'none') \n",
       "    this.style.maxHeight = '100px';\n",
       "else\n",
       "    this.style.maxHeight = 'none'; \n",
       "\">val apply_list : ('a -&gt; 'b) -&gt; 'a list -&gt; 'b list = &lt;fun&gt;\n",
       "</pre>"
      ]
     },
     "execution_count": 7,
     "metadata": {},
     "output_type": "execute_result"
    }
   ],
   "source": [
    "let rec apply_list f l =\n",
    "    match l with\n",
    "        [] -> []\n",
    "        | a :: r -> (f a) :: (apply_list f r)"
   ]
  },
  {
   "cell_type": "code",
   "execution_count": 8,
   "metadata": {
    "collapsed": false
   },
   "outputs": [
    {
     "data": {
      "text/html": [
       "<pre style=\"color:slategray;max-height:100px;overflow:hidden\" \n",
       "onclick=\"\n",
       "if (this.style.maxHeight === 'none') \n",
       "    this.style.maxHeight = '100px';\n",
       "else\n",
       "    this.style.maxHeight = 'none'; \n",
       "\">val inc : int -&gt; int = &lt;fun&gt;\n",
       "</pre>"
      ]
     },
     "execution_count": 8,
     "metadata": {},
     "output_type": "execute_result"
    },
    {
     "data": {
      "text/html": [
       "<pre style=\"color:slategray;max-height:100px;overflow:hidden\" \n",
       "onclick=\"\n",
       "if (this.style.maxHeight === 'none') \n",
       "    this.style.maxHeight = '100px';\n",
       "else\n",
       "    this.style.maxHeight = 'none'; \n",
       "\">- : int list = [1; 2; 3; 4; 5; 6; 7; 8; 9; 10]\n",
       "</pre>"
      ]
     },
     "execution_count": 8,
     "metadata": {},
     "output_type": "execute_result"
    }
   ],
   "source": [
    "let inc x = x + 1;;\n",
    "apply_list inc (range 0 10);;"
   ]
  },
  {
   "cell_type": "markdown",
   "metadata": {},
   "source": [
    "# 4.5. 乱数のリスト / List of random numbers"
   ]
  },
  {
   "cell_type": "code",
   "execution_count": 9,
   "metadata": {
    "collapsed": false
   },
   "outputs": [
    {
     "data": {
      "text/html": [
       "<pre style=\"color:slategray;max-height:100px;overflow:hidden\" \n",
       "onclick=\"\n",
       "if (this.style.maxHeight === 'none') \n",
       "    this.style.maxHeight = '100px';\n",
       "else\n",
       "    this.style.maxHeight = 'none'; \n",
       "\">val random_ints : int -&gt; int -&gt; int list = &lt;fun&gt;\n",
       "</pre>"
      ]
     },
     "execution_count": 9,
     "metadata": {},
     "output_type": "execute_result"
    }
   ],
   "source": [
    "let rec random_ints a n =\n",
    "    if n == 0 then []\n",
    "    else (Random.int a) :: (random_ints a (n - 1))"
   ]
  },
  {
   "cell_type": "code",
   "execution_count": 10,
   "metadata": {
    "collapsed": false
   },
   "outputs": [
    {
     "data": {
      "text/html": [
       "<pre style=\"color:slategray;max-height:100px;overflow:hidden\" \n",
       "onclick=\"\n",
       "if (this.style.maxHeight === 'none') \n",
       "    this.style.maxHeight = '100px';\n",
       "else\n",
       "    this.style.maxHeight = 'none'; \n",
       "\">- : int list = [439; 641; 182; 685; 344]\n",
       "</pre>"
      ]
     },
     "execution_count": 10,
     "metadata": {},
     "output_type": "execute_result"
    }
   ],
   "source": [
    "random_ints 1000 5;;"
   ]
  },
  {
   "cell_type": "markdown",
   "metadata": {},
   "source": [
    "# 4.6. リストから偶数だけを取り出す / Extract even numbers from a list"
   ]
  },
  {
   "cell_type": "code",
   "execution_count": 11,
   "metadata": {
    "collapsed": false
   },
   "outputs": [
    {
     "data": {
      "text/html": [
       "<pre style=\"color:slategray;max-height:100px;overflow:hidden\" \n",
       "onclick=\"\n",
       "if (this.style.maxHeight === 'none') \n",
       "    this.style.maxHeight = '100px';\n",
       "else\n",
       "    this.style.maxHeight = 'none'; \n",
       "\">val evens : int list -&gt; int list = &lt;fun&gt;\n",
       "</pre>"
      ]
     },
     "execution_count": 11,
     "metadata": {},
     "output_type": "execute_result"
    }
   ],
   "source": [
    "let rec evens l =\n",
    "    match l with\n",
    "        [] -> []\n",
    "        | a :: r -> (if a mod 2 == 0 then a :: evens r else evens r)"
   ]
  },
  {
   "cell_type": "code",
   "execution_count": 12,
   "metadata": {
    "collapsed": false
   },
   "outputs": [
    {
     "data": {
      "text/html": [
       "<pre style=\"color:slategray;max-height:100px;overflow:hidden\" \n",
       "onclick=\"\n",
       "if (this.style.maxHeight === 'none') \n",
       "    this.style.maxHeight = '100px';\n",
       "else\n",
       "    this.style.maxHeight = 'none'; \n",
       "\">- : int list = [8; 6; 4]\n",
       "</pre>"
      ]
     },
     "execution_count": 12,
     "metadata": {},
     "output_type": "execute_result"
    }
   ],
   "source": [
    "evens[3;9;8;6;4;7]"
   ]
  },
  {
   "cell_type": "markdown",
   "metadata": {},
   "source": [
    "# 4.7. リストから(p x)を満たすxだけを取り出す / Extract elements x of a list satisfying (p x)"
   ]
  },
  {
   "cell_type": "code",
   "execution_count": 13,
   "metadata": {
    "collapsed": false
   },
   "outputs": [
    {
     "data": {
      "text/html": [
       "<pre style=\"color:slategray;max-height:100px;overflow:hidden\" \n",
       "onclick=\"\n",
       "if (this.style.maxHeight === 'none') \n",
       "    this.style.maxHeight = '100px';\n",
       "else\n",
       "    this.style.maxHeight = 'none'; \n",
       "\">val filter_list : ('a -&gt; bool) -&gt; 'a list -&gt; 'a list = &lt;fun&gt;\n",
       "</pre>"
      ]
     },
     "execution_count": 13,
     "metadata": {},
     "output_type": "execute_result"
    }
   ],
   "source": [
    "let rec filter_list p l =\n",
    "    match l with\n",
    "        [] -> []\n",
    "        | a :: r -> (if (p a == true) then a :: (filter_list  p r) else filter_list p r)"
   ]
  },
  {
   "cell_type": "code",
   "execution_count": 14,
   "metadata": {
    "collapsed": false,
    "scrolled": true
   },
   "outputs": [
    {
     "data": {
      "text/html": [
       "<pre style=\"color:slategray;max-height:100px;overflow:hidden\" \n",
       "onclick=\"\n",
       "if (this.style.maxHeight === 'none') \n",
       "    this.style.maxHeight = '100px';\n",
       "else\n",
       "    this.style.maxHeight = 'none'; \n",
       "\">- : int list = [8; 6; 4]\n",
       "</pre>"
      ]
     },
     "execution_count": 14,
     "metadata": {},
     "output_type": "execute_result"
    }
   ],
   "source": [
    "filter_list (fun x -> x mod 2 = 0)  [ 3; 9; 8; 6; 4; 7 ];;"
   ]
  },
  {
   "cell_type": "markdown",
   "metadata": {},
   "source": [
    "# 4.8. クイックソート / Quicksort"
   ]
  },
  {
   "cell_type": "code",
   "execution_count": 15,
   "metadata": {
    "collapsed": false
   },
   "outputs": [
    {
     "data": {
      "text/html": [
       "<pre style=\"color:slategray;max-height:100px;overflow:hidden\" \n",
       "onclick=\"\n",
       "if (this.style.maxHeight === 'none') \n",
       "    this.style.maxHeight = '100px';\n",
       "else\n",
       "    this.style.maxHeight = 'none'; \n",
       "\">val qs : 'a list -&gt; 'a list = &lt;fun&gt;\n",
       "</pre>"
      ]
     },
     "execution_count": 15,
     "metadata": {},
     "output_type": "execute_result"
    }
   ],
   "source": [
    "let rec qs l =\n",
    "    match l with\n",
    "        [] -> []\n",
    "        | h::r ->\n",
    "            let smaller = List.filter((>)h) r in\n",
    "            let larger = List.filter((<=) h) r in\n",
    "            (qs smaller) @ h :: (qs larger);;"
   ]
  },
  {
   "cell_type": "code",
   "execution_count": 16,
   "metadata": {
    "collapsed": false
   },
   "outputs": [
    {
     "data": {
      "text/html": [
       "<pre style=\"color:slategray;max-height:100px;overflow:hidden\" \n",
       "onclick=\"\n",
       "if (this.style.maxHeight === 'none') \n",
       "    this.style.maxHeight = '100px';\n",
       "else\n",
       "    this.style.maxHeight = 'none'; \n",
       "\">- : int list = [2; 5; 7; 8]\n",
       "</pre>"
      ]
     },
     "execution_count": 16,
     "metadata": {},
     "output_type": "execute_result"
    }
   ],
   "source": [
    "qs [ 8; 5; 7; 2 ];;"
   ]
  },
  {
   "cell_type": "markdown",
   "metadata": {},
   "source": [
    "# 4.9. 長いリストのソート / Sort a large list"
   ]
  },
  {
   "cell_type": "code",
   "execution_count": 17,
   "metadata": {
    "collapsed": false
   },
   "outputs": [
    {
     "data": {
      "text/html": [
       "<pre style=\"color:slategray;max-height:100px;overflow:hidden\" \n",
       "onclick=\"\n",
       "if (this.style.maxHeight === 'none') \n",
       "    this.style.maxHeight = '100px';\n",
       "else\n",
       "    this.style.maxHeight = 'none'; \n",
       "\">val check_sorted : 'a list -&gt; bool = &lt;fun&gt;\n",
       "</pre>"
      ]
     },
     "execution_count": 17,
     "metadata": {},
     "output_type": "execute_result"
    }
   ],
   "source": [
    "let rec check_sorted l =\n",
    "    match l with\n",
    "        [] -> true\n",
    "        | [a] -> true\n",
    "        |[a; b] -> (if a > b then false else true)\n",
    "        | a :: b :: c -> (if a > b then false else check_sorted (b :: c))"
   ]
  },
  {
   "cell_type": "code",
   "execution_count": 18,
   "metadata": {
    "collapsed": false
   },
   "outputs": [
    {
     "data": {
      "text/html": [
       "<pre style=\"color:slategray;max-height:100px;overflow:hidden\" \n",
       "onclick=\"\n",
       "if (this.style.maxHeight === 'none') \n",
       "    this.style.maxHeight = '100px';\n",
       "else\n",
       "    this.style.maxHeight = 'none'; \n",
       "\">val test_qs : int -&gt; bool = &lt;fun&gt;\n",
       "</pre>"
      ]
     },
     "execution_count": 18,
     "metadata": {},
     "output_type": "execute_result"
    }
   ],
   "source": [
    "let test_qs n = check_sorted( qs( random_ints 1000 n))"
   ]
  },
  {
   "cell_type": "code",
   "execution_count": 19,
   "metadata": {
    "collapsed": false
   },
   "outputs": [
    {
     "data": {
      "text/html": [
       "<pre style=\"color:slategray;max-height:100px;overflow:hidden\" \n",
       "onclick=\"\n",
       "if (this.style.maxHeight === 'none') \n",
       "    this.style.maxHeight = '100px';\n",
       "else\n",
       "    this.style.maxHeight = 'none'; \n",
       "\">- : bool = false\n",
       "</pre>"
      ]
     },
     "execution_count": 19,
     "metadata": {},
     "output_type": "execute_result"
    },
    {
     "data": {
      "text/html": [
       "<pre style=\"color:slategray;max-height:100px;overflow:hidden\" \n",
       "onclick=\"\n",
       "if (this.style.maxHeight === 'none') \n",
       "    this.style.maxHeight = '100px';\n",
       "else\n",
       "    this.style.maxHeight = 'none'; \n",
       "\">- : bool = true\n",
       "</pre>"
      ]
     },
     "execution_count": 19,
     "metadata": {},
     "output_type": "execute_result"
    },
    {
     "data": {
      "text/html": [
       "<pre style=\"color:slategray;max-height:100px;overflow:hidden\" \n",
       "onclick=\"\n",
       "if (this.style.maxHeight === 'none') \n",
       "    this.style.maxHeight = '100px';\n",
       "else\n",
       "    this.style.maxHeight = 'none'; \n",
       "\">- : bool = true\n",
       "</pre>"
      ]
     },
     "execution_count": 19,
     "metadata": {},
     "output_type": "execute_result"
    }
   ],
   "source": [
    "check_sorted [3; 1; 2];;\n",
    "check_sorted [1; 2; 4];;\n",
    "test_qs 10000"
   ]
  },
  {
   "cell_type": "markdown",
   "metadata": {},
   "source": [
    "# 4.10. 実行時間測定 / Mesure execution time"
   ]
  },
  {
   "cell_type": "code",
   "execution_count": 20,
   "metadata": {
    "collapsed": false
   },
   "outputs": [
    {
     "name": "stderr",
     "output_type": "stream",
     "text": [
      "File \"[20]\", line 3, characters 8-9:\n",
      "Warning 26: unused variable b.\n"
     ]
    },
    {
     "data": {
      "text/html": [
       "<pre style=\"color:slategray;max-height:100px;overflow:hidden\" \n",
       "onclick=\"\n",
       "if (this.style.maxHeight === 'none') \n",
       "    this.style.maxHeight = '100px';\n",
       "else\n",
       "    this.style.maxHeight = 'none'; \n",
       "\">val measure_qs : int -&gt; unit = &lt;fun&gt;\n",
       "</pre>"
      ]
     },
     "execution_count": 20,
     "metadata": {},
     "output_type": "execute_result"
    }
   ],
   "source": [
    "let measure_qs n =\n",
    "    let start_time = Unix.gettimeofday() in\n",
    "    let b = check_sorted(qs(random_ints 1000000 n)) in\n",
    "    let run_time = Unix.gettimeofday() -. start_time in\n",
    "    Printf.printf \"OK %d elems in %f sec\" n run_time"
   ]
  },
  {
   "cell_type": "code",
   "execution_count": 21,
   "metadata": {
    "collapsed": false
   },
   "outputs": [
    {
     "name": "stdout",
     "output_type": "stream",
     "text": [
      "OK 100000 elems in 0.445418 sec"
     ]
    },
    {
     "data": {
      "text/html": [
       "<pre style=\"color:slategray;max-height:100px;overflow:hidden\" \n",
       "onclick=\"\n",
       "if (this.style.maxHeight === 'none') \n",
       "    this.style.maxHeight = '100px';\n",
       "else\n",
       "    this.style.maxHeight = 'none'; \n",
       "\">- : unit = ()\n",
       "</pre>"
      ]
     },
     "execution_count": 21,
     "metadata": {},
     "output_type": "execute_result"
    }
   ],
   "source": [
    "measure_qs 100000;;"
   ]
  },
  {
   "cell_type": "markdown",
   "metadata": {},
   "source": [
    "# 4.11. 2分探索木 / Binary search tree"
   ]
  },
  {
   "cell_type": "code",
   "execution_count": 22,
   "metadata": {
    "collapsed": false
   },
   "outputs": [
    {
     "data": {
      "text/html": [
       "<pre style=\"color:slategray;max-height:100px;overflow:hidden\" \n",
       "onclick=\"\n",
       "if (this.style.maxHeight === 'none') \n",
       "    this.style.maxHeight = '100px';\n",
       "else\n",
       "    this.style.maxHeight = 'none'; \n",
       "\">type 'a bs_tree = Empty | Node of ('a * 'a bs_tree * 'a bs_tree)\n",
       "</pre>"
      ]
     },
     "execution_count": 22,
     "metadata": {},
     "output_type": "execute_result"
    }
   ],
   "source": [
    "type 'a bs_tree = Empty | Node of ('a * 'a bs_tree * 'a bs_tree);;"
   ]
  },
  {
   "cell_type": "code",
   "execution_count": 23,
   "metadata": {
    "collapsed": false
   },
   "outputs": [
    {
     "data": {
      "text/html": [
       "<pre style=\"color:slategray;max-height:100px;overflow:hidden\" \n",
       "onclick=\"\n",
       "if (this.style.maxHeight === 'none') \n",
       "    this.style.maxHeight = '100px';\n",
       "else\n",
       "    this.style.maxHeight = 'none'; \n",
       "\">val bs_tree_insert : 'a -&gt; 'a bs_tree -&gt; 'a bs_tree = &lt;fun&gt;\n",
       "</pre>"
      ]
     },
     "execution_count": 23,
     "metadata": {},
     "output_type": "execute_result"
    }
   ],
   "source": [
    "let rec bs_tree_insert x t =\n",
    "    match t with\n",
    "        Empty -> Node (x, Empty, Empty)\n",
    "        | Node (a, b, c) -> if (x <= a) then Node (a, (bs_tree_insert x b), c) else Node (a, b, (bs_tree_insert x c))"
   ]
  },
  {
   "cell_type": "code",
   "execution_count": 24,
   "metadata": {
    "collapsed": false
   },
   "outputs": [
    {
     "data": {
      "text/html": [
       "<pre style=\"color:slategray;max-height:100px;overflow:hidden\" \n",
       "onclick=\"\n",
       "if (this.style.maxHeight === 'none') \n",
       "    this.style.maxHeight = '100px';\n",
       "else\n",
       "    this.style.maxHeight = 'none'; \n",
       "\">val a : int bs_tree = Node (5, Empty, Empty)\n",
       "</pre>"
      ]
     },
     "execution_count": 24,
     "metadata": {},
     "output_type": "execute_result"
    },
    {
     "data": {
      "text/html": [
       "<pre style=\"color:slategray;max-height:100px;overflow:hidden\" \n",
       "onclick=\"\n",
       "if (this.style.maxHeight === 'none') \n",
       "    this.style.maxHeight = '100px';\n",
       "else\n",
       "    this.style.maxHeight = 'none'; \n",
       "\">val b : int bs_tree = Node (2, Empty, Empty)\n",
       "</pre>"
      ]
     },
     "execution_count": 24,
     "metadata": {},
     "output_type": "execute_result"
    },
    {
     "data": {
      "text/html": [
       "<pre style=\"color:slategray;max-height:100px;overflow:hidden\" \n",
       "onclick=\"\n",
       "if (this.style.maxHeight === 'none') \n",
       "    this.style.maxHeight = '100px';\n",
       "else\n",
       "    this.style.maxHeight = 'none'; \n",
       "\">val c : int bs_tree =\n",
       "  Node (3, Node (2, Empty, Empty), Node (5, Empty, Empty))\n",
       "</pre>"
      ]
     },
     "execution_count": 24,
     "metadata": {},
     "output_type": "execute_result"
    },
    {
     "data": {
      "text/html": [
       "<pre style=\"color:slategray;max-height:100px;overflow:hidden\" \n",
       "onclick=\"\n",
       "if (this.style.maxHeight === 'none') \n",
       "    this.style.maxHeight = '100px';\n",
       "else\n",
       "    this.style.maxHeight = 'none'; \n",
       "\">- : int bs_tree =\n",
       "Node (3, Node (2, Empty, Empty), Node (5, Node (4, Empty, Empty), Empty))\n",
       "</pre>"
      ]
     },
     "execution_count": 24,
     "metadata": {},
     "output_type": "execute_result"
    }
   ],
   "source": [
    "let a = Node (5, Empty, Empty)\n",
    "let b = Node (2, Empty, Empty)\n",
    "let c = Node (3, b, a);;\n",
    "bs_tree_insert 4 c"
   ]
  },
  {
   "cell_type": "markdown",
   "metadata": {},
   "source": [
    "# 4.12. 2分探索木の探索 / Search a binary search tree"
   ]
  },
  {
   "cell_type": "code",
   "execution_count": 25,
   "metadata": {
    "collapsed": false
   },
   "outputs": [
    {
     "data": {
      "text/html": [
       "<pre style=\"color:slategray;max-height:100px;overflow:hidden\" \n",
       "onclick=\"\n",
       "if (this.style.maxHeight === 'none') \n",
       "    this.style.maxHeight = '100px';\n",
       "else\n",
       "    this.style.maxHeight = 'none'; \n",
       "\">val bs_tree_find : 'a -&gt; 'a bs_tree -&gt; bool = &lt;fun&gt;\n",
       "</pre>"
      ]
     },
     "execution_count": 25,
     "metadata": {},
     "output_type": "execute_result"
    }
   ],
   "source": [
    "let rec bs_tree_find x t =\n",
    "    match t with\n",
    "        Empty -> false\n",
    "        | Node (a, b, c) -> if (x == a) then true else if (x > a) then (bs_tree_find x c) else (bs_tree_find x b)"
   ]
  },
  {
   "cell_type": "code",
   "execution_count": 26,
   "metadata": {
    "collapsed": false
   },
   "outputs": [
    {
     "data": {
      "text/html": [
       "<pre style=\"color:slategray;max-height:100px;overflow:hidden\" \n",
       "onclick=\"\n",
       "if (this.style.maxHeight === 'none') \n",
       "    this.style.maxHeight = '100px';\n",
       "else\n",
       "    this.style.maxHeight = 'none'; \n",
       "\">val a : int bs_tree = Node (5, Empty, Empty)\n",
       "</pre>"
      ]
     },
     "execution_count": 26,
     "metadata": {},
     "output_type": "execute_result"
    },
    {
     "data": {
      "text/html": [
       "<pre style=\"color:slategray;max-height:100px;overflow:hidden\" \n",
       "onclick=\"\n",
       "if (this.style.maxHeight === 'none') \n",
       "    this.style.maxHeight = '100px';\n",
       "else\n",
       "    this.style.maxHeight = 'none'; \n",
       "\">val b : int bs_tree = Node (2, Empty, Empty)\n",
       "</pre>"
      ]
     },
     "execution_count": 26,
     "metadata": {},
     "output_type": "execute_result"
    },
    {
     "data": {
      "text/html": [
       "<pre style=\"color:slategray;max-height:100px;overflow:hidden\" \n",
       "onclick=\"\n",
       "if (this.style.maxHeight === 'none') \n",
       "    this.style.maxHeight = '100px';\n",
       "else\n",
       "    this.style.maxHeight = 'none'; \n",
       "\">val c : int bs_tree =\n",
       "  Node (3, Node (2, Empty, Empty), Node (5, Empty, Empty))\n",
       "</pre>"
      ]
     },
     "execution_count": 26,
     "metadata": {},
     "output_type": "execute_result"
    },
    {
     "data": {
      "text/html": [
       "<pre style=\"color:slategray;max-height:100px;overflow:hidden\" \n",
       "onclick=\"\n",
       "if (this.style.maxHeight === 'none') \n",
       "    this.style.maxHeight = '100px';\n",
       "else\n",
       "    this.style.maxHeight = 'none'; \n",
       "\">- : bool = true\n",
       "</pre>"
      ]
     },
     "execution_count": 26,
     "metadata": {},
     "output_type": "execute_result"
    }
   ],
   "source": [
    "let a = Node (5, Empty, Empty)\n",
    "let b = Node (2, Empty, Empty)\n",
    "let c = Node (3, b, a);;\n",
    "bs_tree_find 2 c"
   ]
  },
  {
   "cell_type": "markdown",
   "metadata": {},
   "source": [
    "# 4.13. 2分探索木からの削除 / Remove an element of a binary search tree"
   ]
  },
  {
   "cell_type": "code",
   "execution_count": 27,
   "metadata": {
    "collapsed": false
   },
   "outputs": [
    {
     "data": {
      "text/html": [
       "<pre style=\"color:slategray;max-height:100px;overflow:hidden\" \n",
       "onclick=\"\n",
       "if (this.style.maxHeight === 'none') \n",
       "    this.style.maxHeight = '100px';\n",
       "else\n",
       "    this.style.maxHeight = 'none'; \n",
       "\">val bs_tree_all_append : 'a bs_tree -&gt; 'a bs_tree -&gt; 'a bs_tree = &lt;fun&gt;\n",
       "</pre>"
      ]
     },
     "execution_count": 27,
     "metadata": {},
     "output_type": "execute_result"
    },
    {
     "data": {
      "text/html": [
       "<pre style=\"color:slategray;max-height:100px;overflow:hidden\" \n",
       "onclick=\"\n",
       "if (this.style.maxHeight === 'none') \n",
       "    this.style.maxHeight = '100px';\n",
       "else\n",
       "    this.style.maxHeight = 'none'; \n",
       "\">val bs_tree_remove : 'a -&gt; 'a bs_tree -&gt; 'a bs_tree = &lt;fun&gt;\n",
       "</pre>"
      ]
     },
     "execution_count": 27,
     "metadata": {},
     "output_type": "execute_result"
    }
   ],
   "source": [
    "let rec bs_tree_all_append t1 t2 =\n",
    "    match t1 with\n",
    "        Empty -> t2\n",
    "        | Node (a, Empty, Empty) -> bs_tree_insert a t2\n",
    "        | Node(a, b, c) -> bs_tree_all_append b (bs_tree_all_append c (bs_tree_all_append (Node (a, Empty, Empty)) t2))\n",
    "\n",
    "let rec bs_tree_remove x t =\n",
    "    match t with\n",
    "        Empty -> Empty\n",
    "        | Node (a, b, c) -> if (x < a) then  Node (a, (bs_tree_remove x b), c)\n",
    "                                        else if (x > a) then Node (a, b, (bs_tree_remove x c))\n",
    "                                        else (bs_tree_remove x (bs_tree_all_append b c))"
   ]
  },
  {
   "cell_type": "code",
   "execution_count": 28,
   "metadata": {
    "collapsed": false
   },
   "outputs": [
    {
     "data": {
      "text/html": [
       "<pre style=\"color:slategray;max-height:100px;overflow:hidden\" \n",
       "onclick=\"\n",
       "if (this.style.maxHeight === 'none') \n",
       "    this.style.maxHeight = '100px';\n",
       "else\n",
       "    this.style.maxHeight = 'none'; \n",
       "\">val a : int bs_tree = Node (5, Empty, Empty)\n",
       "</pre>"
      ]
     },
     "execution_count": 28,
     "metadata": {},
     "output_type": "execute_result"
    },
    {
     "data": {
      "text/html": [
       "<pre style=\"color:slategray;max-height:100px;overflow:hidden\" \n",
       "onclick=\"\n",
       "if (this.style.maxHeight === 'none') \n",
       "    this.style.maxHeight = '100px';\n",
       "else\n",
       "    this.style.maxHeight = 'none'; \n",
       "\">val b : int bs_tree = Node (2, Empty, Empty)\n",
       "</pre>"
      ]
     },
     "execution_count": 28,
     "metadata": {},
     "output_type": "execute_result"
    },
    {
     "data": {
      "text/html": [
       "<pre style=\"color:slategray;max-height:100px;overflow:hidden\" \n",
       "onclick=\"\n",
       "if (this.style.maxHeight === 'none') \n",
       "    this.style.maxHeight = '100px';\n",
       "else\n",
       "    this.style.maxHeight = 'none'; \n",
       "\">val c : int bs_tree =\n",
       "  Node (3, Node (2, Empty, Empty), Node (5, Empty, Empty))\n",
       "</pre>"
      ]
     },
     "execution_count": 28,
     "metadata": {},
     "output_type": "execute_result"
    },
    {
     "data": {
      "text/html": [
       "<pre style=\"color:slategray;max-height:100px;overflow:hidden\" \n",
       "onclick=\"\n",
       "if (this.style.maxHeight === 'none') \n",
       "    this.style.maxHeight = '100px';\n",
       "else\n",
       "    this.style.maxHeight = 'none'; \n",
       "\">val d : int bs_tree =\n",
       "  Node (1, Empty, Node (3, Node (2, Empty, Empty), Node (5, Empty, Empty)))\n",
       "</pre>"
      ]
     },
     "execution_count": 28,
     "metadata": {},
     "output_type": "execute_result"
    },
    {
     "data": {
      "text/html": [
       "<pre style=\"color:slategray;max-height:100px;overflow:hidden\" \n",
       "onclick=\"\n",
       "if (this.style.maxHeight === 'none') \n",
       "    this.style.maxHeight = '100px';\n",
       "else\n",
       "    this.style.maxHeight = 'none'; \n",
       "\">- : int bs_tree = Node (1, Empty, Node (5, Node (2, Empty, Empty), Empty))\n",
       "</pre>"
      ]
     },
     "execution_count": 28,
     "metadata": {},
     "output_type": "execute_result"
    }
   ],
   "source": [
    "let a = Node (5, Empty, Empty)\n",
    "let b = Node (2, Empty, Empty)\n",
    "let c = Node (3, b, a)\n",
    "let d = Node (1, Empty, c);;\n",
    "\n",
    "bs_tree_remove 3 d;;"
   ]
  },
  {
   "cell_type": "markdown",
   "metadata": {},
   "source": [
    "# 4.14. 2分探索木の計算量 / Time complexity of operations on a binary search tree"
   ]
  },
  {
   "cell_type": "code",
   "execution_count": 29,
   "metadata": {
    "collapsed": false
   },
   "outputs": [
    {
     "name": "stderr",
     "output_type": "stream",
     "text": [
      "File \"[29]\", line 1, characters 2-3:\n",
      "Warning 3: deprecated: ISO-Latin1 characters in identifiers\n"
     ]
    },
    {
     "data": {
      "text/html": [
       "<pre style=\"color:red;max-height:100px;overflow:hidden\" \n",
       "onclick=\"\n",
       "if (this.style.maxHeight === 'none') \n",
       "    this.style.maxHeight = '100px';\n",
       "else\n",
       "    this.style.maxHeight = 'none'; \n",
       "\">File &quot;[29]&quot;, line 1, characters 3-4:\n",
       "Error: Illegal character (\\185)\n",
       "Characters 3-4:\n",
       "  # 平均: n lon(n) 最悪: n^2 (1, 2, 3, 4 ....のような場合)\n",
       "     ^\n",
       "</pre>"
      ]
     },
     "execution_count": 29,
     "metadata": {},
     "output_type": "execute_result"
    }
   ],
   "source": [
    "# 平均: n lon(n) 最悪: n^2 (1, 2, 3, 4 ....のような場合)"
   ]
  },
  {
   "cell_type": "markdown",
   "metadata": {},
   "source": [
    "# 4.15. 2-3木 / 2-3 tree"
   ]
  },
  {
   "cell_type": "code",
   "execution_count": 30,
   "metadata": {
    "collapsed": false
   },
   "outputs": [
    {
     "data": {
      "text/html": [
       "<pre style=\"color:slategray;max-height:100px;overflow:hidden\" \n",
       "onclick=\"\n",
       "if (this.style.maxHeight === 'none') \n",
       "    this.style.maxHeight = '100px';\n",
       "else\n",
       "    this.style.maxHeight = 'none'; \n",
       "\">type 'a tt_tree =\n",
       "    Empty\n",
       "  | Leaf of ('a option * 'a option * 'a option)\n",
       "  | Node of\n",
       "      ('a tt_tree * 'a tt_tree * 'a tt_tree * 'a option * 'a option *\n",
       "       'a option)\n",
       "</pre>"
      ]
     },
     "execution_count": 30,
     "metadata": {},
     "output_type": "execute_result"
    }
   ],
   "source": [
    "type 'a tt_tree = Empty | Leaf of ('a option * 'a option * 'a option) | Node of ('a  tt_tree *  'a  tt_tree * 'a tt_tree * 'a option * 'a option * 'a option)"
   ]
  },
  {
   "cell_type": "code",
   "execution_count": 31,
   "metadata": {
    "collapsed": false
   },
   "outputs": [
    {
     "data": {
      "text/html": [
       "<pre style=\"color:slategray;max-height:100px;overflow:hidden\" \n",
       "onclick=\"\n",
       "if (this.style.maxHeight === 'none') \n",
       "    this.style.maxHeight = '100px';\n",
       "else\n",
       "    this.style.maxHeight = 'none'; \n",
       "\">type 'a tt_tree_pair = 'a tt_tree * 'a tt_tree\n",
       "</pre>"
      ]
     },
     "execution_count": 31,
     "metadata": {},
     "output_type": "execute_result"
    }
   ],
   "source": [
    "type 'a tt_tree_pair = ('a tt_tree * 'a tt_tree)"
   ]
  },
  {
   "cell_type": "code",
   "execution_count": 32,
   "metadata": {
    "collapsed": false
   },
   "outputs": [
    {
     "name": "stderr",
     "output_type": "stream",
     "text": [
      "File \"[32]\", line 2, characters 4-89:\n",
      "Warning 8: this pattern-matching is not exhaustive.\n",
      "Here is an example of a value that is not matched:\n",
      "[]\n"
     ]
    },
    {
     "data": {
      "text/html": [
       "<pre style=\"color:slategray;max-height:100px;overflow:hidden\" \n",
       "onclick=\"\n",
       "if (this.style.maxHeight === 'none') \n",
       "    this.style.maxHeight = '100px';\n",
       "else\n",
       "    this.style.maxHeight = 'none'; \n",
       "\">val split_from_four_value_to_two_leaf :\n",
       "  'a option -&gt; 'a option -&gt; 'a option -&gt; 'a option -&gt; 'a tt_tree * 'a tt_tree =\n",
       "  &lt;fun&gt;\n",
       "</pre>"
      ]
     },
     "execution_count": 32,
     "metadata": {},
     "output_type": "execute_result"
    }
   ],
   "source": [
    "let split_from_four_value_to_two_leaf x y z w =\n",
    "    match qs([x; y; z; w]) with\n",
    "        [a;b;c;d] -> (Leaf(a, b, None), Leaf(c, d, None))"
   ]
  },
  {
   "cell_type": "code",
   "execution_count": 33,
   "metadata": {
    "collapsed": false
   },
   "outputs": [
    {
     "data": {
      "text/html": [
       "<pre style=\"color:slategray;max-height:100px;overflow:hidden\" \n",
       "onclick=\"\n",
       "if (this.style.maxHeight === 'none') \n",
       "    this.style.maxHeight = '100px';\n",
       "else\n",
       "    this.style.maxHeight = 'none'; \n",
       "\">- : int tt_tree * int tt_tree =\n",
       "(Leaf (Some 1, Some 2, None), Leaf (Some 4, Some 5, None))\n",
       "</pre>"
      ]
     },
     "execution_count": 33,
     "metadata": {},
     "output_type": "execute_result"
    }
   ],
   "source": [
    "split_from_four_value_to_two_leaf (Some 4) (Some 5) (Some 2) (Some 1)"
   ]
  },
  {
   "cell_type": "code",
   "execution_count": 34,
   "metadata": {
    "collapsed": false
   },
   "outputs": [
    {
     "name": "stderr",
     "output_type": "stream",
     "text": [
      "File \"[34]\", line 3, characters 8-42:\n",
      "Warning 8: this pattern-matching is not exhaustive.\n",
      "Here is an example of a value that is not matched:\n",
      "None\n",
      "File \"[34]\", line 2, characters 4-73:\n",
      "Warning 8: this pattern-matching is not exhaustive.\n",
      "Here is an example of a value that is not matched:\n",
      "None\n"
     ]
    },
    {
     "data": {
      "text/html": [
       "<pre style=\"color:slategray;max-height:100px;overflow:hidden\" \n",
       "onclick=\"\n",
       "if (this.style.maxHeight === 'none') \n",
       "    this.style.maxHeight = '100px';\n",
       "else\n",
       "    this.style.maxHeight = 'none'; \n",
       "\">val min_ : 'a option -&gt; 'a option -&gt; 'a option = &lt;fun&gt;\n",
       "</pre>"
      ]
     },
     "execution_count": 34,
     "metadata": {},
     "output_type": "execute_result"
    }
   ],
   "source": [
    "let min_ x y =\n",
    "    match x with Some num_x ->\n",
    "        match y with Some num_y -> min x y"
   ]
  },
  {
   "cell_type": "code",
   "execution_count": 35,
   "metadata": {
    "collapsed": false
   },
   "outputs": [
    {
     "data": {
      "text/html": [
       "<pre style=\"color:slategray;max-height:100px;overflow:hidden\" \n",
       "onclick=\"\n",
       "if (this.style.maxHeight === 'none') \n",
       "    this.style.maxHeight = '100px';\n",
       "else\n",
       "    this.style.maxHeight = 'none'; \n",
       "\">- : int option = Some 1\n",
       "</pre>"
      ]
     },
     "execution_count": 35,
     "metadata": {},
     "output_type": "execute_result"
    }
   ],
   "source": [
    "min_ (Some 1) (Some 2)"
   ]
  },
  {
   "cell_type": "code",
   "execution_count": 36,
   "metadata": {
    "collapsed": false
   },
   "outputs": [
    {
     "data": {
      "text/html": [
       "<pre style=\"color:slategray;max-height:100px;overflow:hidden\" \n",
       "onclick=\"\n",
       "if (this.style.maxHeight === 'none') \n",
       "    this.style.maxHeight = '100px';\n",
       "else\n",
       "    this.style.maxHeight = 'none'; \n",
       "\">val get_min : 'a tt_tree -&gt; 'a option = &lt;fun&gt;\n",
       "</pre>"
      ]
     },
     "execution_count": 36,
     "metadata": {},
     "output_type": "execute_result"
    }
   ],
   "source": [
    "let get_min t =\n",
    "    match t with\n",
    "        | Empty -> None\n",
    "        | Leaf(None, None, None) -> None\n",
    "        | Leaf(a, None, None) -> a\n",
    "        | Leaf(a, b, None) -> min_ a b\n",
    "        | Leaf(a, b, c) -> min_ (min_ a b) c\n",
    "        | Node(t1, t2, t3, a, b, c) -> a"
   ]
  },
  {
   "cell_type": "code",
   "execution_count": 37,
   "metadata": {
    "collapsed": false
   },
   "outputs": [
    {
     "name": "stderr",
     "output_type": "stream",
     "text": [
      "File \"[37]\", line 19, characters 20-52:\n",
      "Warning 8: this pattern-matching is not exhaustive.\n",
      "Here is an example of a value that is not matched:\n",
      "None\n",
      "File \"[37]\", line 28, characters 20-52:\n",
      "Warning 8: this pattern-matching is not exhaustive.\n",
      "Here is an example of a value that is not matched:\n",
      "None\n",
      "File \"[37]\", line 32, characters 25-57:\n",
      "Warning 8: this pattern-matching is not exhaustive.\n",
      "Here is an example of a value that is not matched:\n",
      "None\n"
     ]
    },
    {
     "data": {
      "text/html": [
       "<pre style=\"color:slategray;max-height:100px;overflow:hidden\" \n",
       "onclick=\"\n",
       "if (this.style.maxHeight === 'none') \n",
       "    this.style.maxHeight = '100px';\n",
       "else\n",
       "    this.style.maxHeight = 'none'; \n",
       "\">val tt_tree_append_with_no_height_change :\n",
       "  'a -&gt; 'a tt_tree -&gt; 'a tt_tree * 'a tt_tree = &lt;fun&gt;\n",
       "</pre>"
      ]
     },
     "execution_count": 37,
     "metadata": {},
     "output_type": "execute_result"
    }
   ],
   "source": [
    "let rec tt_tree_append_with_no_height_change x t =\n",
    "    match t with\n",
    "        | Empty -> (Leaf(Some x, None, None), Empty)\n",
    "        | Leaf(None, None, None) -> (Leaf(Some x, None, None), Empty)\n",
    "        | Leaf(a, None, None) -> (\n",
    "            if((min_ a (Some x)) = (Some x)) then (Leaf(Some x, a, None), Empty)\n",
    "            else (Leaf(a, Some x, None), Empty))\n",
    "        | Leaf(a, b, None) -> (\n",
    "            if ((min_ a (Some x)) = (Some x)) then (Leaf(Some x, a, b), Empty)\n",
    "            else if ((min_ b (Some x)) = (Some x)) then (Leaf(a, Some x, b), Empty)\n",
    "            else (Leaf(a, b, Some x), Empty))\n",
    "        | Leaf(a, b, c) -> split_from_four_value_to_two_leaf a b c (Some x)\n",
    "        | Node(Empty, Empty, Empty, a, b, c) -> (Node(Leaf(Some x, None, None), Empty, Empty, Some x, None, None), Empty)\n",
    "        | Node(t1, Empty, Empty, a, b, c) -> (\n",
    "            match (tt_tree_append_with_no_height_change x t1) with\n",
    "                (t1_1, Empty) -> (Node(t1_1, Empty, Empty, get_min(t1_1), None, None), Empty)\n",
    "                | (t1_1, t1_2) -> (Node(t1_1, t1_2, Empty, get_min(t1_1) , get_min(t1_2), None), Empty))\n",
    "        | Node(t1, t2, Empty, a, b, c) -> (\n",
    "            if (x < (match b with (Some num) -> num)) then (\n",
    "                match (tt_tree_append_with_no_height_change x t1) with\n",
    "                    (t1_1, Empty) -> (Node(t1_1, t2, Empty, get_min(t1_1), get_min(t2), None), Empty)\n",
    "                    | (t1_1, t1_2) -> (Node(t1_1, t1_2, t2, get_min(t1_1), get_min(t1_2), get_min(t2)), Empty))\n",
    "            else (\n",
    "                match (tt_tree_append_with_no_height_change x t2) with\n",
    "                (t2_1, Empty) -> (Node(t1, t2_1, Empty, get_min(t1), get_min(t2_1), None), Empty)\n",
    "                | (t2_1, t2_2) -> (Node(t1, t2_1, t2_2, get_min(t1), get_min(t2_1), get_min(t2_2)), Empty)))\n",
    "        | Node(t1, t2, t3, a, b, c) -> (\n",
    "            if (x < (match b with (Some num) -> num)) then (\n",
    "                match (tt_tree_append_with_no_height_change x t1) with\n",
    "                    (t1_1, Empty) -> (Node(t1_1, t2, t3, get_min(t1_1), get_min(t2), get_min(t3)), Empty)\n",
    "                    | (t1_1, t1_2) -> (Node(t1_1, t1_2, Empty, get_min(t1_1), get_min(t1_2), None), Node(t2, t3, Empty, get_min(t2), get_min(t3), None)))\n",
    "            else if (x < (match c with (Some num) -> num)) then (\n",
    "                match (tt_tree_append_with_no_height_change x t2) with\n",
    "                    (t2_1, Empty) -> (Node(t1, t2_1, t3, get_min(t1), get_min(t2_1), get_min(t3)), Empty)\n",
    "                    | (t2_1, t2_2) -> (Node(t1, t2_1, Empty, get_min(t1), get_min(t2_1), None), Node(t2_2, t3, Empty, get_min(t2_2), get_min(t3), None)))\n",
    "            else (\n",
    "                match (tt_tree_append_with_no_height_change x t3) with\n",
    "                     (t3_1, Empty) -> (Node(t1, t2, t3_1, get_min(t1), get_min(t2), get_min(t3_1)), Empty)\n",
    "                    | (t3_1, t3_2) -> (Node(t1, t2, Empty, get_min(t1), get_min(t2), None), Node(t3_1, t3_2, Empty, get_min(t3_1), get_min(t3_2), None))))"
   ]
  },
  {
   "cell_type": "code",
   "execution_count": 38,
   "metadata": {
    "collapsed": false
   },
   "outputs": [
    {
     "data": {
      "text/html": [
       "<pre style=\"color:slategray;max-height:100px;overflow:hidden\" \n",
       "onclick=\"\n",
       "if (this.style.maxHeight === 'none') \n",
       "    this.style.maxHeight = '100px';\n",
       "else\n",
       "    this.style.maxHeight = 'none'; \n",
       "\">val tt_tree_append : 'a -&gt; 'a tt_tree -&gt; 'a tt_tree = &lt;fun&gt;\n",
       "</pre>"
      ]
     },
     "execution_count": 38,
     "metadata": {},
     "output_type": "execute_result"
    }
   ],
   "source": [
    "let rec tt_tree_append x t =\n",
    "    match (tt_tree_append_with_no_height_change x t) with\n",
    "         (t1, Empty) -> t1\n",
    "         | (t1, t2) -> Node(t1, t2, Empty, get_min(t1), get_min(t2), None)"
   ]
  },
  {
   "cell_type": "code",
   "execution_count": 39,
   "metadata": {
    "collapsed": false
   },
   "outputs": [
    {
     "data": {
      "text/html": [
       "<pre style=\"color:slategray;max-height:100px;overflow:hidden\" \n",
       "onclick=\"\n",
       "if (this.style.maxHeight === 'none') \n",
       "    this.style.maxHeight = '100px';\n",
       "else\n",
       "    this.style.maxHeight = 'none'; \n",
       "\">val tree : 'a tt_tree = Empty\n",
       "</pre>"
      ]
     },
     "execution_count": 39,
     "metadata": {},
     "output_type": "execute_result"
    },
    {
     "data": {
      "text/html": [
       "<pre style=\"color:slategray;max-height:100px;overflow:hidden\" \n",
       "onclick=\"\n",
       "if (this.style.maxHeight === 'none') \n",
       "    this.style.maxHeight = '100px';\n",
       "else\n",
       "    this.style.maxHeight = 'none'; \n",
       "\">val tree1 : int tt_tree = Leaf (Some 10, None, None)\n",
       "</pre>"
      ]
     },
     "execution_count": 39,
     "metadata": {},
     "output_type": "execute_result"
    },
    {
     "data": {
      "text/html": [
       "<pre style=\"color:slategray;max-height:100px;overflow:hidden\" \n",
       "onclick=\"\n",
       "if (this.style.maxHeight === 'none') \n",
       "    this.style.maxHeight = '100px';\n",
       "else\n",
       "    this.style.maxHeight = 'none'; \n",
       "\">val tree2 : int tt_tree = Leaf (Some 10, Some 20, None)\n",
       "</pre>"
      ]
     },
     "execution_count": 39,
     "metadata": {},
     "output_type": "execute_result"
    },
    {
     "data": {
      "text/html": [
       "<pre style=\"color:slategray;max-height:100px;overflow:hidden\" \n",
       "onclick=\"\n",
       "if (this.style.maxHeight === 'none') \n",
       "    this.style.maxHeight = '100px';\n",
       "else\n",
       "    this.style.maxHeight = 'none'; \n",
       "\">val tree3 : int tt_tree = Leaf (Some 3, Some 10, Some 20)\n",
       "</pre>"
      ]
     },
     "execution_count": 39,
     "metadata": {},
     "output_type": "execute_result"
    },
    {
     "data": {
      "text/html": [
       "<pre style=\"color:slategray;max-height:100px;overflow:hidden\" \n",
       "onclick=\"\n",
       "if (this.style.maxHeight === 'none') \n",
       "    this.style.maxHeight = '100px';\n",
       "else\n",
       "    this.style.maxHeight = 'none'; \n",
       "\">val tree4 : int tt_tree =\n",
       "  Node\n",
       "   (Leaf (Some 3, Some 4, None), Leaf (Some 10, Some 20, None), Empty,\n",
       "    Some 3, Some 10, None)\n",
       "</pre>"
      ]
     },
     "execution_count": 39,
     "metadata": {},
     "output_type": "execute_result"
    },
    {
     "data": {
      "text/html": [
       "<pre style=\"color:slategray;max-height:100px;overflow:hidden\" \n",
       "onclick=\"\n",
       "if (this.style.maxHeight === 'none') \n",
       "    this.style.maxHeight = '100px';\n",
       "else\n",
       "    this.style.maxHeight = 'none'; \n",
       "\">val tree5 : int tt_tree =\n",
       "  Node\n",
       "   (Leaf (Some 1, Some 3, Some 4), Leaf (Some 10, Some 20, None), Empty,\n",
       "    Some 1, Some 10, None)\n",
       "</pre>"
      ]
     },
     "execution_count": 39,
     "metadata": {},
     "output_type": "execute_result"
    },
    {
     "data": {
      "text/html": [
       "<pre style=\"color:slategray;max-height:100px;overflow:hidden\" \n",
       "onclick=\"\n",
       "if (this.style.maxHeight === 'none') \n",
       "    this.style.maxHeight = '100px';\n",
       "else\n",
       "    this.style.maxHeight = 'none'; \n",
       "\">val tree6 : int tt_tree =\n",
       "  Node\n",
       "   (Leaf (Some 1, Some 3, Some 4), Leaf (Some 10, Some 19, Some 20), Empty,\n",
       "    Some 1, Some 10, None)\n",
       "</pre>"
      ]
     },
     "execution_count": 39,
     "metadata": {},
     "output_type": "execute_result"
    },
    {
     "data": {
      "text/html": [
       "<pre style=\"color:slategray;max-height:100px;overflow:hidden\" \n",
       "onclick=\"\n",
       "if (this.style.maxHeight === 'none') \n",
       "    this.style.maxHeight = '100px';\n",
       "else\n",
       "    this.style.maxHeight = 'none'; \n",
       "\">val tree7 : int tt_tree =\n",
       "  Node\n",
       "   (Leaf (Some 1, Some 3, Some 4), Leaf (Some 10, Some 19, None),\n",
       "    Leaf (Some 20, Some 30, None), Some 1, Some 10, Some 20)\n",
       "</pre>"
      ]
     },
     "execution_count": 39,
     "metadata": {},
     "output_type": "execute_result"
    },
    {
     "data": {
      "text/html": [
       "<pre style=\"color:slategray;max-height:100px;overflow:hidden\" \n",
       "onclick=\"\n",
       "if (this.style.maxHeight === 'none') \n",
       "    this.style.maxHeight = '100px';\n",
       "else\n",
       "    this.style.maxHeight = 'none'; \n",
       "\">val tree8 : int tt_tree =\n",
       "  Node\n",
       "   (Leaf (Some 1, Some 3, Some 4), Leaf (Some 10, Some 19, None),\n",
       "    Leaf (Some 20, Some 30, Some 34), Some 1, Some 10, Some 20)\n",
       "</pre>"
      ]
     },
     "execution_count": 39,
     "metadata": {},
     "output_type": "execute_result"
    },
    {
     "data": {
      "text/html": [
       "<pre style=\"color:slategray;max-height:100px;overflow:hidden\" \n",
       "onclick=\"\n",
       "if (this.style.maxHeight === 'none') \n",
       "    this.style.maxHeight = '100px';\n",
       "else\n",
       "    this.style.maxHeight = 'none'; \n",
       "\">val tree9 : int tt_tree =\n",
       "  Node\n",
       "   (Leaf (Some 1, Some 3, Some 4), Leaf (Some 10, Some 12, Some 19),\n",
       "    Leaf (Some 20, Some 30, Some 34), Some 1, Some 10, Some 20)\n",
       "</pre>"
      ]
     },
     "execution_count": 39,
     "metadata": {},
     "output_type": "execute_result"
    },
    {
     "data": {
      "text/html": [
       "<pre style=\"color:slategray;max-height:100px;overflow:hidden\" \n",
       "onclick=\"\n",
       "if (this.style.maxHeight === 'none') \n",
       "    this.style.maxHeight = '100px';\n",
       "else\n",
       "    this.style.maxHeight = 'none'; \n",
       "\">val tree10 : int tt_tree =\n",
       "  Node\n",
       "   (Node\n",
       "     (Leaf (Some 1, Some 3, Some 4), Leaf (Some 10, Some 12, None), Empty,\n",
       "      Some 1, Some 10, None),\n",
       "    Node\n",
       "     (Leaf (Some 18, Some 19, None), Leaf (Some 20, Some 30, Some 34), Empty,\n",
       "      Some 18, Some 20, None),\n",
       "    Empty, Some 1, Some 18, None)\n",
       "</pre>"
      ]
     },
     "execution_count": 39,
     "metadata": {},
     "output_type": "execute_result"
    },
    {
     "data": {
      "text/html": [
       "<pre style=\"color:slategray;max-height:100px;overflow:hidden\" \n",
       "onclick=\"\n",
       "if (this.style.maxHeight === 'none') \n",
       "    this.style.maxHeight = '100px';\n",
       "else\n",
       "    this.style.maxHeight = 'none'; \n",
       "\">val tree11 : int tt_tree =\n",
       "  Node\n",
       "   (Node\n",
       "     (Leaf (Some 1, Some 3, None), Leaf (Some 4, Some 7, None),\n",
       "      Leaf (Some 10, Some 12, None), Some 1, Some 4, Some 10),\n",
       "    Node\n",
       "     (Leaf (Some 18, Some 19, None), Leaf (Some 20, Some 30, Some 34), Empty,\n",
       "      Some 18, Some 20, None),\n",
       "    Empty, Some 1, Some 18, None)\n",
       "</pre>"
      ]
     },
     "execution_count": 39,
     "metadata": {},
     "output_type": "execute_result"
    },
    {
     "data": {
      "text/html": [
       "<pre style=\"color:slategray;max-height:100px;overflow:hidden\" \n",
       "onclick=\"\n",
       "if (this.style.maxHeight === 'none') \n",
       "    this.style.maxHeight = '100px';\n",
       "else\n",
       "    this.style.maxHeight = 'none'; \n",
       "\">val tree12 : int tt_tree =\n",
       "  Node\n",
       "   (Node\n",
       "     (Leaf (Some 1, Some 3, None), Leaf (Some 4, Some 7, None),\n",
       "      Leaf (Some 10, Some 11, Some 12), Some 1, Some 4, Some 10),\n",
       "    Node\n",
       "     (Leaf (Some 18, Some 19, None), Leaf (Some 20, Some 30, Some 34), Empty,\n",
       "      Some 18, Some 20, None),\n",
       "    Empty, Some 1, Some 18, None)\n",
       "</pre>"
      ]
     },
     "execution_count": 39,
     "metadata": {},
     "output_type": "execute_result"
    }
   ],
   "source": [
    "let tree = Empty;;\n",
    "let tree1= tt_tree_append 10 tree;;\n",
    "let tree2= tt_tree_append 20 tree1;;\n",
    "let tree3= tt_tree_append 3 tree2;;\n",
    "let tree4= tt_tree_append 4 tree3;;\n",
    "let tree5= tt_tree_append 1 tree4;;\n",
    "let tree6= tt_tree_append 19 tree5;;\n",
    "let tree7= tt_tree_append 30 tree6;;\n",
    "let tree8= tt_tree_append 34 tree7;;\n",
    "let tree9= tt_tree_append 12 tree8;;\n",
    "let tree10= tt_tree_append 18 tree9;;\n",
    "let tree11= tt_tree_append 7 tree10;;\n",
    "let tree12= tt_tree_append 11 tree11;;"
   ]
  },
  {
   "cell_type": "code",
   "execution_count": null,
   "metadata": {
    "collapsed": false
   },
   "outputs": [],
   "source": []
  },
  {
   "cell_type": "markdown",
   "metadata": {},
   "source": [
    "# 4.16. 2-3木からの削除 / Remove an element of a 2-3 tree"
   ]
  },
  {
   "cell_type": "code",
   "execution_count": 40,
   "metadata": {
    "collapsed": false
   },
   "outputs": [
    {
     "name": "stderr",
     "output_type": "stream",
     "text": [
      "File \"[40]\", line 4, characters 12-85:\n",
      "Warning 8: this pattern-matching is not exhaustive.\n",
      "Here is an example of a value that is not matched:\n",
      "None\n",
      "File \"[40]\", line 2, characters 4-121:\n",
      "Warning 8: this pattern-matching is not exhaustive.\n",
      "Here is an example of a value that is not matched:\n",
      "None\n"
     ]
    },
    {
     "data": {
      "text/html": [
       "<pre style=\"color:slategray;max-height:100px;overflow:hidden\" \n",
       "onclick=\"\n",
       "if (this.style.maxHeight === 'none') \n",
       "    this.style.maxHeight = '100px';\n",
       "else\n",
       "    this.style.maxHeight = 'none'; \n",
       "\">val is_equal : 'a option -&gt; 'a option -&gt; bool = &lt;fun&gt;\n",
       "</pre>"
      ]
     },
     "execution_count": 40,
     "metadata": {},
     "output_type": "execute_result"
    }
   ],
   "source": [
    "let is_equal a b =\n",
    "    match a with\n",
    "        Some a_ ->\n",
    "            match b with\n",
    "                Some b_ -> (if (a = b) then true else false)"
   ]
  },
  {
   "cell_type": "code",
   "execution_count": 41,
   "metadata": {
    "collapsed": false
   },
   "outputs": [
    {
     "name": "stderr",
     "output_type": "stream",
     "text": [
      "File \"[41]\", line 3, characters 41-428:\n",
      "Warning 8: this pattern-matching is not exhaustive.\n",
      "Here is an example of a value that is not matched:\n",
      "(Empty|Leaf _)\n",
      "File \"[41]\", line 10, characters 51-475:\n",
      "Warning 8: this pattern-matching is not exhaustive.\n",
      "Here is an example of a value that is not matched:\n",
      "Leaf _\n",
      "File \"[41]\", line 15, characters 49-522:\n",
      "Warning 8: this pattern-matching is not exhaustive.\n",
      "Here is an example of a value that is not matched:\n",
      "Leaf _\n",
      "File \"[41]\", line 7, characters 39-1220:\n",
      "Warning 8: this pattern-matching is not exhaustive.\n",
      "Here is an example of a value that is not matched:\n",
      "(Empty|Leaf _)\n",
      "File \"[41]\", line 23, characters 51-474:\n",
      "Warning 8: this pattern-matching is not exhaustive.\n",
      "Here is an example of a value that is not matched:\n",
      "Leaf _\n",
      "File \"[41]\", line 28, characters 49-472:\n",
      "Warning 8: this pattern-matching is not exhaustive.\n",
      "Here is an example of a value that is not matched:\n",
      "Leaf _\n",
      "File \"[41]\", line 20, characters 35-1208:\n",
      "Warning 8: this pattern-matching is not exhaustive.\n",
      "Here is an example of a value that is not matched:\n",
      "(Empty|Leaf _)\n",
      "File \"[41]\", line 33, characters 29-250:\n",
      "Warning 8: this pattern-matching is not exhaustive.\n",
      "Here is an example of a value that is not matched:\n",
      "(Empty|Node _)\n",
      "File \"[41]\", line 40, characters 36-369:\n",
      "Warning 8: this pattern-matching is not exhaustive.\n",
      "Here is an example of a value that is not matched:\n",
      "Node _\n",
      "File \"[41]\", line 45, characters 34-380:\n",
      "Warning 8: this pattern-matching is not exhaustive.\n",
      "Here is an example of a value that is not matched:\n",
      "Node _\n",
      "File \"[41]\", line 37, characters 26-895:\n",
      "Warning 8: this pattern-matching is not exhaustive.\n",
      "Here is an example of a value that is not matched:\n",
      "(Empty|Node _)\n",
      "File \"[41]\", line 53, characters 36-371:\n",
      "Warning 8: this pattern-matching is not exhaustive.\n",
      "Here is an example of a value that is not matched:\n",
      "Node _\n",
      "File \"[41]\", line 58, characters 34-382:\n",
      "Warning 8: this pattern-matching is not exhaustive.\n",
      "Here is an example of a value that is not matched:\n",
      "Node _\n",
      "File \"[41]\", line 50, characters 23-902:\n",
      "Warning 8: this pattern-matching is not exhaustive.\n",
      "Here is an example of a value that is not matched:\n",
      "(Empty|Node _)\n",
      "File \"[41]\", line 2, characters 4-4927:\n",
      "Warning 8: this pattern-matching is not exhaustive.\n",
      "Here is an example of a value that is not matched:\n",
      "Empty\n"
     ]
    },
    {
     "data": {
      "text/html": [
       "<pre style=\"color:slategray;max-height:100px;overflow:hidden\" \n",
       "onclick=\"\n",
       "if (this.style.maxHeight === 'none') \n",
       "    this.style.maxHeight = '100px';\n",
       "else\n",
       "    this.style.maxHeight = 'none'; \n",
       "\">val syn_nodes : 'a tt_tree -&gt; 'a tt_tree -&gt; 'a tt_tree -&gt; 'a tt_tree = &lt;fun&gt;\n",
       "</pre>"
      ]
     },
     "execution_count": 41,
     "metadata": {},
     "output_type": "execute_result"
    }
   ],
   "source": [
    "let rec syn_nodes tt1 tt2 tt3 = \n",
    "    match tt1 with\n",
    "    | Node(t1, Empty, Empty, a, b, c) -> (\n",
    "        match tt2 with\n",
    "            | Node(t1_, t2_, Empty, a_, b_, c_) -> Node(Node(t1, t1_, t2_, get_min t1, get_min t1_, get_min t2_), tt3, Empty, get_min t1, get_min tt3, None)\n",
    "            | Node(t1_, t2_, t3_, a_, b_, c_) -> Node(Node(t1, t1_, Empty, get_min t1, get_min t1_, None), Node(t2_, t3_, Empty, get_min t2_, get_min t3_, None), tt3, get_min t1, get_min t2_, get_min tt3))\n",
    "    | Node (t1, t2, Empty, a, b, c) -> (\n",
    "        match tt2 with\n",
    "            | Node(t1_, Empty, Empty, a_, b_, c_) -> Node(Node(t1, t2, t1_, get_min t1, get_min t2, get_min t1_), tt3, Empty, get_min t1, get_min tt3, None)\n",
    "            | Node(t1_, t2_, Empty, a_, b_, c_) -> (\n",
    "                match tt3 with\n",
    "                    | Empty -> Node(tt1, tt2, Empty, get_min tt1, get_min tt2, get_min tt3)\n",
    "                    | Node(t1__, Empty, Empty, a__, b__, c__) -> Node(tt1, Node(t1_, t2_, t1__, get_min t1_, get_min t2_, get_min t1__), Empty, get_min tt1, get_min t1_, None)\n",
    "                    | Node(t1__ , t2__, t3__, a__, b__, c__) -> Node(tt1, tt2, tt3, get_min tt1, get_min tt2, get_min tt3))\n",
    "            | Node(t1_, t2_, t3_, a_, b_, c_) -> (\n",
    "                match tt3 with\n",
    "                    | Empty -> Node(tt1, tt2, Empty, get_min tt1, get_min tt2, get_min tt3)\n",
    "                    | Node(t1__, Empty, Empty, a__, b__, c__) -> Node(tt1, Node(t1_, t2_, Empty, get_min t1_, get_min t2_, None), Node(t3_, t1__, Empty, get_min t3_, get_min t1__, None), get_min tt1, get_min t1_, get_min t3_)\n",
    "                    | Node(t1__, t2__, t3__, a__, b__, c__) -> Node(tt1, tt2, tt3, get_min tt1, get_min tt2, get_min tt3)))\n",
    "    | Node(t1, t2, t3, a, b, c) -> (\n",
    "        match tt2 with\n",
    "            | Node(t1_, Empty, Empty, a_, b_ ,c_ ) -> Node(Node(t1, t2, Empty, get_min t1, get_min t2, None), Node(t3, t1_, Empty, get_min t3, get_min t1_, None), Empty, get_min t1, get_min t3, None)\n",
    "            | Node(t1_, t2_, Empty, a_, b_, c_) -> (\n",
    "                match tt3 with\n",
    "                     | Empty -> Node(tt1, tt2, Empty, get_min tt1, get_min tt2, get_min tt3)\n",
    "                     | Node(t1__, Empty, Empty, a_, b_, c_) -> Node(tt1, Node(t1_, t2_, t1__, get_min t1_, get_min t2_, get_min t1__), Empty, get_min tt1, get_min t1_, None)\n",
    "                     | Node(t1__, t2__, t3__, a__, b__, c__) -> Node(tt1, tt2, tt3, get_min tt1, get_min tt2, get_min tt3))\n",
    "            | Node(t1_, t2_, t3_, a_, b_, c_) -> (\n",
    "                match tt3 with\n",
    "                    | Empty -> Node(tt1, tt2, Empty, get_min tt1, get_min tt2, get_min tt3)\n",
    "                    | Node(t1__, Empty, Empty, a__, b__, c__) -> Node(tt1, Node(t1_, t2_, t1__, get_min t1_, get_min t2_, get_min t1__), Empty, get_min tt1, get_min t1_, None)\n",
    "                    | Node(t1__, t2__, t3__, a__, b__, c__) -> Node(tt1, tt2, tt3, get_min tt1, get_min tt2, get_min tt3)))\n",
    "    | Leaf(a, None, None) -> (\n",
    "        match tt2 with\n",
    "            | Leaf(a_, b_, None) -> Node(Leaf(a, a_, b_), tt3, Empty, a, get_min tt3, None)\n",
    "            | Leaf(a_, b_, c_) -> Node(Leaf(a, a_, None), Leaf(b_ , c_, None), tt3, a, b_, get_min tt3))\n",
    "    | Leaf(a, b, None) -> (\n",
    "        match tt2 with\n",
    "            | Leaf(a_, None, None) -> Node(Leaf(a, b, a_), tt3, Empty, a, get_min tt3, None)\n",
    "            | Leaf(a_, b_, None) -> (\n",
    "                match tt3 with\n",
    "                    | Empty -> Node(tt1, tt2, tt3, get_min tt1, get_min tt2, get_min tt3)\n",
    "                    | Leaf(a__, None, None) -> Node(tt1, Leaf(a_, b_, a__), Empty, get_min tt1, a_, None)\n",
    "                    | Leaf(a__, b__, c__) -> Node(tt1, tt2, tt3, get_min tt1, get_min tt2, get_min tt3))\n",
    "            | Leaf(a_, b_, c_) -> (\n",
    "                match tt3 with\n",
    "                    | Empty -> Node(tt1, tt2, tt3, get_min tt1, get_min tt2, get_min tt3)\n",
    "                    | Leaf(a__, None, None) -> Node(tt1, Leaf(a_, b_, None), Leaf(c_, a__, None), get_min tt1, a_, c_)\n",
    "                    | Leaf(a__, b__, c__) -> Node(tt1, tt2, tt3, get_min tt1, get_min tt2, get_min tt3)))\n",
    "    | Leaf(a, b, c) -> (\n",
    "        match tt2 with\n",
    "            | Leaf(a_, None, None) -> Node(Leaf(a, b, None), Leaf(c, a_, None), Empty, a, c, None)\n",
    "            | Leaf(a_, b_, None) -> (\n",
    "                match tt3 with \n",
    "                    | Empty ->  Node(tt1, tt2, tt3, get_min tt1, get_min tt2, get_min tt3)\n",
    "                    | Leaf(a__, None, None) -> Node(tt1, Leaf(a_, b_, a__), Empty, get_min tt1, a_, None)\n",
    "                    | Leaf(a__, b__, c__) -> Node(tt1, tt2, tt3, get_min tt1, get_min tt2, get_min tt3))\n",
    "            | Leaf(a_, b_, c_) -> (\n",
    "                match tt3 with\n",
    "                    | Empty ->  Node(tt1, tt2, tt3, get_min tt1, get_min tt2, get_min tt3)\n",
    "                    | Leaf(a__, None,  None) -> Node(tt1, Leaf(a_, b_, None), Leaf(c_, a__, None), get_min tt1, a_, c_)\n",
    "                    | Leaf(a__, b__, c__) -> Node(tt1, tt2, tt3, get_min tt1, get_min tt2, get_min tt3)))"
   ]
  },
  {
   "cell_type": "code",
   "execution_count": 42,
   "metadata": {
    "collapsed": false
   },
   "outputs": [
    {
     "name": "stderr",
     "output_type": "stream",
     "text": [
      "File \"[42]\", line 2, characters 4-941:\n",
      "Warning 8: this pattern-matching is not exhaustive.\n",
      "Here is an example of a value that is not matched:\n",
      "Empty\n"
     ]
    },
    {
     "data": {
      "text/html": [
       "<pre style=\"color:slategray;max-height:100px;overflow:hidden\" \n",
       "onclick=\"\n",
       "if (this.style.maxHeight === 'none') \n",
       "    this.style.maxHeight = '100px';\n",
       "else\n",
       "    this.style.maxHeight = 'none'; \n",
       "\">val tt_tree_delete : 'a -&gt; 'a tt_tree -&gt; 'a tt_tree = &lt;fun&gt;\n",
       "</pre>"
      ]
     },
     "execution_count": 42,
     "metadata": {},
     "output_type": "execute_result"
    }
   ],
   "source": [
    "let rec tt_tree_delete x t =\n",
    "    match t with\n",
    "        | Leaf(a, b, None) -> (\n",
    "            if (is_equal a (Some x)) then Leaf(b, None, None) else if(is_equal b (Some x)) then Leaf(a, None, None) else Leaf(a, b, None))\n",
    "        | Leaf(a, b, c) -> (\n",
    "            if (is_equal a (Some x)) then Leaf(b, c, None) else if(is_equal b (Some x)) then Leaf(a, c, None) else if(is_equal c (Some x)) then Leaf(a, b, None) else Leaf(a, b, c))\n",
    "        | Node(t1, t2, Empty, a, b, c) -> (\n",
    "            if ((min_ b (Some x)) = b)then \n",
    "                (syn_nodes t1 (tt_tree_delete x t2) Empty)\n",
    "            else\n",
    "                (syn_nodes (tt_tree_delete x t1) t2 Empty))\n",
    "        | Node(t1, t2, t3, a, b, c) -> (\n",
    "            if ((min_ c (Some x)) = c) then\n",
    "                (syn_nodes t1 t2 (tt_tree_delete x t3))\n",
    "            else if ((min_ b (Some x)) = b) then\n",
    "                (syn_nodes t1 (tt_tree_delete x t2) t3)\n",
    "            else\n",
    "                (syn_nodes t1 t2 (tt_tree_delete x t3)))"
   ]
  },
  {
   "cell_type": "code",
   "execution_count": 43,
   "metadata": {
    "collapsed": false
   },
   "outputs": [
    {
     "data": {
      "text/html": [
       "<pre style=\"color:slategray;max-height:100px;overflow:hidden\" \n",
       "onclick=\"\n",
       "if (this.style.maxHeight === 'none') \n",
       "    this.style.maxHeight = '100px';\n",
       "else\n",
       "    this.style.maxHeight = 'none'; \n",
       "\">val tree0 : int tt_tree =\n",
       "  Node\n",
       "   (Node\n",
       "     (Leaf (Some 1, Some 3, None), Leaf (Some 4, Some 7, None),\n",
       "      Leaf (Some 10, Some 11, Some 12), Some 1, Some 4, Some 10),\n",
       "    Node\n",
       "     (Leaf (Some 18, Some 19, None), Leaf (Some 20, Some 30, Some 34), Empty,\n",
       "      Some 18, Some 20, None),\n",
       "    Empty, Some 1, Some 18, None)\n",
       "</pre>"
      ]
     },
     "execution_count": 43,
     "metadata": {},
     "output_type": "execute_result"
    },
    {
     "data": {
      "text/html": [
       "<pre style=\"color:slategray;max-height:100px;overflow:hidden\" \n",
       "onclick=\"\n",
       "if (this.style.maxHeight === 'none') \n",
       "    this.style.maxHeight = '100px';\n",
       "else\n",
       "    this.style.maxHeight = 'none'; \n",
       "\">val tree1 : int tt_tree =\n",
       "  Node\n",
       "   (Node\n",
       "     (Leaf (Some 1, Some 3, None), Leaf (Some 4, Some 7, None),\n",
       "      Leaf (Some 10, Some 11, Some 12), Some 1, Some 4, Some 10),\n",
       "    Node\n",
       "     (Leaf (Some 18, Some 19, None), Leaf (Some 20, Some 30, Some 34), Empty,\n",
       "      Some 18, Some 20, None),\n",
       "    Empty, Some 1, Some 18, None)\n",
       "</pre>"
      ]
     },
     "execution_count": 43,
     "metadata": {},
     "output_type": "execute_result"
    },
    {
     "data": {
      "text/html": [
       "<pre style=\"color:slategray;max-height:100px;overflow:hidden\" \n",
       "onclick=\"\n",
       "if (this.style.maxHeight === 'none') \n",
       "    this.style.maxHeight = '100px';\n",
       "else\n",
       "    this.style.maxHeight = 'none'; \n",
       "\">val tree2 : int tt_tree =\n",
       "  Node\n",
       "   (Node\n",
       "     (Leaf (Some 1, Some 3, None), Leaf (Some 4, Some 7, None),\n",
       "      Leaf (Some 10, Some 11, Some 12), Some 1, Some 4, Some 10),\n",
       "    Node\n",
       "     (Leaf (Some 18, Some 19, None), Leaf (Some 20, Some 34, None), Empty,\n",
       "      Some 18, Some 20, None),\n",
       "    Empty, Some 1, Some 18, None)\n",
       "</pre>"
      ]
     },
     "execution_count": 43,
     "metadata": {},
     "output_type": "execute_result"
    },
    {
     "data": {
      "text/html": [
       "<pre style=\"color:slategray;max-height:100px;overflow:hidden\" \n",
       "onclick=\"\n",
       "if (this.style.maxHeight === 'none') \n",
       "    this.style.maxHeight = '100px';\n",
       "else\n",
       "    this.style.maxHeight = 'none'; \n",
       "\">val tree3 : int tt_tree =\n",
       "  Node\n",
       "   (Node\n",
       "     (Leaf (Some 1, Some 3, None), Leaf (Some 4, Some 7, None), Empty,\n",
       "      Some 1, Some 4, None),\n",
       "    Node\n",
       "     (Leaf (Some 10, Some 11, Some 12), Leaf (Some 18, Some 19, Some 34),\n",
       "      Empty, Some 10, Some 18, None),\n",
       "    Empty, Some 1, Some 10, None)\n",
       "</pre>"
      ]
     },
     "execution_count": 43,
     "metadata": {},
     "output_type": "execute_result"
    },
    {
     "data": {
      "text/html": [
       "<pre style=\"color:slategray;max-height:100px;overflow:hidden\" \n",
       "onclick=\"\n",
       "if (this.style.maxHeight === 'none') \n",
       "    this.style.maxHeight = '100px';\n",
       "else\n",
       "    this.style.maxHeight = 'none'; \n",
       "\">val tree4 : int tt_tree =\n",
       "  Node\n",
       "   (Node\n",
       "     (Leaf (Some 1, Some 3, None), Leaf (Some 4, Some 7, None), Empty,\n",
       "      Some 1, Some 4, None),\n",
       "    Node\n",
       "     (Leaf (Some 10, Some 11, None), Leaf (Some 18, Some 19, Some 34), Empty,\n",
       "      Some 10, Some 18, None),\n",
       "    Empty, Some 1, Some 10, None)\n",
       "</pre>"
      ]
     },
     "execution_count": 43,
     "metadata": {},
     "output_type": "execute_result"
    },
    {
     "data": {
      "text/html": [
       "<pre style=\"color:slategray;max-height:100px;overflow:hidden\" \n",
       "onclick=\"\n",
       "if (this.style.maxHeight === 'none') \n",
       "    this.style.maxHeight = '100px';\n",
       "else\n",
       "    this.style.maxHeight = 'none'; \n",
       "\">val tree5 : int tt_tree =\n",
       "  Node\n",
       "   (Node\n",
       "     (Leaf (Some 1, Some 3, None), Leaf (Some 4, Some 7, None), Empty,\n",
       "      Some 1, Some 4, None),\n",
       "    Node\n",
       "     (Leaf (Some 10, Some 11, None), Leaf (Some 18, Some 19, None), Empty,\n",
       "      Some 10, Some 18, None),\n",
       "    Empty, Some 1, Some 10, None)\n",
       "</pre>"
      ]
     },
     "execution_count": 43,
     "metadata": {},
     "output_type": "execute_result"
    },
    {
     "data": {
      "text/html": [
       "<pre style=\"color:slategray;max-height:100px;overflow:hidden\" \n",
       "onclick=\"\n",
       "if (this.style.maxHeight === 'none') \n",
       "    this.style.maxHeight = '100px';\n",
       "else\n",
       "    this.style.maxHeight = 'none'; \n",
       "\">val tree6 : int tt_tree =\n",
       "  Node\n",
       "   (Node\n",
       "     (Leaf (Some 1, Some 3, Some 4), Leaf (Some 10, Some 11, None),\n",
       "      Leaf (Some 18, Some 19, None), Some 1, Some 10, Some 18),\n",
       "    Empty, Empty, Some 1, None, None)\n",
       "</pre>"
      ]
     },
     "execution_count": 43,
     "metadata": {},
     "output_type": "execute_result"
    }
   ],
   "source": [
    "let tree0 = \n",
    " Node\n",
    "   (Node\n",
    "     (Leaf (Some 1, Some 3, None), Leaf (Some 4, Some 7, None),\n",
    "      Leaf (Some 10, Some 11, Some 12), Some 1, Some 4, Some 10),\n",
    "    Node\n",
    "     (Leaf (Some 18, Some 19, None), Leaf (Some 20, Some 30, Some 34), Empty,\n",
    "      Some 18, Some 20, None),\n",
    "    Empty, Some 1, Some 18, None);;\n",
    "      \n",
    "let tree1 = tt_tree_delete 1 tree0;;\n",
    "let tree2 = tt_tree_delete 30 tree1;;\n",
    "let tree3 = tt_tree_delete 20 tree2;;\n",
    "let tree4 = tt_tree_delete 12 tree3;;\n",
    "let tree5 = tt_tree_delete 34 tree4;;\n",
    "let tree6 = tt_tree_delete 7 tree5;;"
   ]
  },
  {
   "cell_type": "code",
   "execution_count": null,
   "metadata": {
    "collapsed": false
   },
   "outputs": [],
   "source": []
  },
  {
   "cell_type": "code",
   "execution_count": null,
   "metadata": {
    "collapsed": true
   },
   "outputs": [],
   "source": []
  },
  {
   "cell_type": "code",
   "execution_count": null,
   "metadata": {
    "collapsed": true
   },
   "outputs": [],
   "source": []
  }
 ],
 "metadata": {
  "kernelspec": {
   "display_name": "OCaml",
   "language": "ocaml",
   "name": "iocaml-kernel"
  },
  "language_info": {
   "name": "ocaml",
   "version": "4.1.0"
  }
 },
 "nbformat": 4,
 "nbformat_minor": 0
}
